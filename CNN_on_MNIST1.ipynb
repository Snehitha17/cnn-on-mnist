{
 "cells": [
  {
   "cell_type": "markdown",
   "metadata": {
    "colab": {},
    "colab_type": "code",
    "id": "f-Mi4pHLwCIl"
   },
   "source": [
    "## Importing libraries"
   ]
  },
  {
   "cell_type": "code",
   "execution_count": 0,
   "metadata": {
    "colab": {
     "base_uri": "https://localhost:8080/",
     "height": 125
    },
    "colab_type": "code",
    "id": "ahXwJRy1whoH",
    "outputId": "bc809342-ec49-4285-c3a5-242bc795157d"
   },
   "outputs": [
    {
     "name": "stderr",
     "output_type": "stream",
     "text": [
      "Using TensorFlow backend.\n"
     ]
    },
    {
     "name": "stdout",
     "output_type": "stream",
     "text": [
      "Downloading data from https://s3.amazonaws.com/img-datasets/mnist.npz\n",
      "11493376/11490434 [==============================] - 2s 0us/step\n",
      "x_train shape: (60000, 28, 28, 1)\n",
      "60000 train samples\n",
      "10000 test samples\n"
     ]
    }
   ],
   "source": [
    "# Credits: https://github.com/keras-team/keras/blob/master/examples/mnist_cnn.py\n",
    "\n",
    "\n",
    "from __future__ import print_function\n",
    "import keras\n",
    "from keras.datasets import mnist\n",
    "from keras.models import Sequential\n",
    "from keras.layers import Dense, Dropout, Flatten\n",
    "from keras.layers import Conv2D, MaxPooling2D\n",
    "from keras import backend as K\n",
    "from keras.layers import BatchNormalization\n",
    "\n",
    "batch_size = 128\n",
    "num_classes = 10\n",
    "epochs = 15\n",
    "\n",
    "# input image dimensions\n",
    "img_rows, img_cols = 28, 28\n",
    "\n",
    "# the data, split between train and test sets\n",
    "(x_train, y_train), (x_test, y_test) = mnist.load_data()\n",
    "\n",
    "if K.image_data_format() == 'channels_first':\n",
    "    x_train = x_train.reshape(x_train.shape[0], 1, img_rows, img_cols)\n",
    "    x_test = x_test.reshape(x_test.shape[0], 1, img_rows, img_cols)\n",
    "    input_shape = (1, img_rows, img_cols)\n",
    "else:\n",
    "    x_train = x_train.reshape(x_train.shape[0], img_rows, img_cols, 1)\n",
    "    x_test = x_test.reshape(x_test.shape[0], img_rows, img_cols, 1)\n",
    "    input_shape = (img_rows, img_cols, 1)\n",
    "\n",
    "x_train = x_train.astype('float32')\n",
    "x_test = x_test.astype('float32')\n",
    "x_train /= 255\n",
    "x_test /= 255\n",
    "print('x_train shape:', x_train.shape)\n",
    "print(x_train.shape[0], 'train samples')\n",
    "print(x_test.shape[0], 'test samples')\n",
    "\n",
    "# convert class vectors to binary class matrices\n",
    "y_train = keras.utils.to_categorical(y_train, num_classes)\n",
    "y_test = keras.utils.to_categorical(y_test, num_classes)"
   ]
  },
  {
   "cell_type": "code",
   "execution_count": 0,
   "metadata": {
    "colab": {},
    "colab_type": "code",
    "id": "4frTEHu9jyFf"
   },
   "outputs": [],
   "source": [
    "# plotting train and test error\n",
    "\n",
    "import matplotlib.pyplot as plt\n",
    "%matplotlib inline\n",
    "\n",
    "def plot_loss(training, epochs):\n",
    "    fig, ax = plt.subplots(1,1)    \n",
    "    ax.set_xlabel('epoch') \n",
    "    ax.set_ylabel('Categorical Crossentropy Loss')\n",
    "    x_values = list(range(1,epochs+1))\n",
    "\n",
    "    validation_loss = training.history['val_loss']\n",
    "    train_loss = training.history['loss']   \n",
    "    \n",
    "    ax.plot(x_values, validation_loss, 'b', label=\"Validation Loss\")\n",
    "    ax.plot(x_values, train_loss, 'r', label=\"Train Loss\")\n",
    "    plt.legend()\n",
    "    plt.grid()"
   ]
  },
  {
   "cell_type": "markdown",
   "metadata": {
    "colab_type": "text",
    "id": "7WH67rc4cgHf"
   },
   "source": [
    "## 2 conv layers, kernels =(3x3), Max pooling =(2x2)"
   ]
  },
  {
   "cell_type": "code",
   "execution_count": 0,
   "metadata": {
    "colab": {
     "base_uri": "https://localhost:8080/",
     "height": 1000
    },
    "colab_type": "code",
    "id": "BEpPzbhJwJUZ",
    "outputId": "ebf76b98-0846-4ae9-91d0-53739fd7381f"
   },
   "outputs": [
    {
     "name": "stdout",
     "output_type": "stream",
     "text": [
      "Model: \"sequential_3\"\n",
      "_________________________________________________________________\n",
      "Layer (type)                 Output Shape              Param #   \n",
      "=================================================================\n",
      "conv2d_5 (Conv2D)            (None, 26, 26, 32)        320       \n",
      "_________________________________________________________________\n",
      "conv2d_6 (Conv2D)            (None, 24, 24, 64)        18496     \n",
      "_________________________________________________________________\n",
      "max_pooling2d_3 (MaxPooling2 (None, 12, 12, 64)        0         \n",
      "_________________________________________________________________\n",
      "dropout_5 (Dropout)          (None, 12, 12, 64)        0         \n",
      "_________________________________________________________________\n",
      "flatten_3 (Flatten)          (None, 9216)              0         \n",
      "_________________________________________________________________\n",
      "dense_5 (Dense)              (None, 128)               1179776   \n",
      "_________________________________________________________________\n",
      "dropout_6 (Dropout)          (None, 128)               0         \n",
      "_________________________________________________________________\n",
      "dense_6 (Dense)              (None, 10)                1290      \n",
      "=================================================================\n",
      "Total params: 1,199,882\n",
      "Trainable params: 1,199,882\n",
      "Non-trainable params: 0\n",
      "_________________________________________________________________\n",
      "Train on 60000 samples, validate on 10000 samples\n",
      "Epoch 1/15\n",
      "60000/60000 [==============================] - 147s 2ms/step - loss: 0.2576 - accuracy: 0.9207 - val_loss: 0.0538 - val_accuracy: 0.9826\n",
      "Epoch 2/15\n",
      "60000/60000 [==============================] - 145s 2ms/step - loss: 0.0876 - accuracy: 0.9737 - val_loss: 0.0409 - val_accuracy: 0.9856\n",
      "Epoch 3/15\n",
      "60000/60000 [==============================] - 144s 2ms/step - loss: 0.0658 - accuracy: 0.9802 - val_loss: 0.0379 - val_accuracy: 0.9872\n",
      "Epoch 4/15\n",
      "60000/60000 [==============================] - 144s 2ms/step - loss: 0.0546 - accuracy: 0.9835 - val_loss: 0.0319 - val_accuracy: 0.9890\n",
      "Epoch 5/15\n",
      "60000/60000 [==============================] - 145s 2ms/step - loss: 0.0482 - accuracy: 0.9856 - val_loss: 0.0299 - val_accuracy: 0.9900\n",
      "Epoch 6/15\n",
      "60000/60000 [==============================] - 147s 2ms/step - loss: 0.0418 - accuracy: 0.9872 - val_loss: 0.0263 - val_accuracy: 0.9908\n",
      "Epoch 7/15\n",
      "60000/60000 [==============================] - 147s 2ms/step - loss: 0.0377 - accuracy: 0.9879 - val_loss: 0.0310 - val_accuracy: 0.9898\n",
      "Epoch 8/15\n",
      "60000/60000 [==============================] - 148s 2ms/step - loss: 0.0360 - accuracy: 0.9892 - val_loss: 0.0246 - val_accuracy: 0.9917\n",
      "Epoch 9/15\n",
      "60000/60000 [==============================] - 148s 2ms/step - loss: 0.0319 - accuracy: 0.9905 - val_loss: 0.0279 - val_accuracy: 0.9912\n",
      "Epoch 10/15\n",
      "60000/60000 [==============================] - 148s 2ms/step - loss: 0.0308 - accuracy: 0.9905 - val_loss: 0.0242 - val_accuracy: 0.9921\n",
      "Epoch 11/15\n",
      "60000/60000 [==============================] - 151s 3ms/step - loss: 0.0285 - accuracy: 0.9911 - val_loss: 0.0280 - val_accuracy: 0.9911\n",
      "Epoch 12/15\n",
      "60000/60000 [==============================] - 149s 2ms/step - loss: 0.0273 - accuracy: 0.9913 - val_loss: 0.0292 - val_accuracy: 0.9914\n",
      "Epoch 13/15\n",
      "60000/60000 [==============================] - 145s 2ms/step - loss: 0.0254 - accuracy: 0.9923 - val_loss: 0.0300 - val_accuracy: 0.9912\n",
      "Epoch 14/15\n",
      "60000/60000 [==============================] - 145s 2ms/step - loss: 0.0240 - accuracy: 0.9927 - val_loss: 0.0286 - val_accuracy: 0.9915\n",
      "Epoch 15/15\n",
      "60000/60000 [==============================] - 150s 3ms/step - loss: 0.0243 - accuracy: 0.9923 - val_loss: 0.0311 - val_accuracy: 0.9905\n",
      "Test loss: 0.03108858480632407\n",
      "Test accuracy: 0.9904999732971191\n",
      "CPU times: user 1h 9min 25s, sys: 1min 15s, total: 1h 10min 40s\n",
      "Wall time: 36min 50s\n"
     ]
    }
   ],
   "source": [
    "%%time\n",
    "\n",
    "model = Sequential()\n",
    "model.add(Conv2D(32, kernel_size=(3, 3),\n",
    "                 activation='relu',\n",
    "                 input_shape=input_shape))\n",
    "model.add(Conv2D(64, (3, 3), activation='relu'))\n",
    "model.add(MaxPooling2D(pool_size=(2, 2)))\n",
    "model.add(Dropout(0.25))\n",
    "\n",
    "model.add(Flatten())\n",
    "model.add(Dense(128, activation='relu'))\n",
    "model.add(Dropout(0.5))\n",
    "model.add(Dense(num_classes, activation='softmax'))\n",
    "\n",
    "model.summary()\n",
    "\n",
    "model.compile(loss=keras.losses.categorical_crossentropy,\n",
    "              optimizer=keras.optimizers.Adadelta(),\n",
    "              metrics=['accuracy'])\n",
    "\n",
    "training = model.fit(x_train, y_train,\n",
    "                     batch_size=batch_size,\n",
    "                     epochs=epochs,\n",
    "                     verbose=1,\n",
    "                     validation_data=(x_test, y_test))\n",
    "\n",
    "score = model.evaluate(x_test, y_test, verbose=0)\n",
    "print('Test loss:', score[0])\n",
    "print('Test accuracy:', score[1])"
   ]
  },
  {
   "cell_type": "code",
   "execution_count": 0,
   "metadata": {
    "colab": {
     "base_uri": "https://localhost:8080/",
     "height": 279
    },
    "colab_type": "code",
    "id": "IxT0qzPgp6Yt",
    "outputId": "1d7d3d4f-9561-408d-ce31-f64e69ab7978"
   },
   "outputs": [
    {
     "data": {
      "image/png": "[encoded data removed]",
      "text/plain": [
       "<Figure size 432x288 with 1 Axes>"
      ]
     },
     "metadata": {
      "needs_background": "light",
      "tags": []
     },
     "output_type": "display_data"
    }
   ],
   "source": [
    "plot_loss(training, epochs)"
   ]
  },
  {
   "cell_type": "markdown",
   "metadata": {
    "colab_type": "text",
    "id": "fUwjOgSfFb-r"
   },
   "source": [
    "from epoch 11 it starts overfitting. Best epoch is 10"
   ]
  },
  {
   "cell_type": "markdown",
   "metadata": {
    "colab_type": "text",
    "id": "XOI9Awfrx8T0"
   },
   "source": [
    "## 2 conv layers, kernels =(5x5) max pooling = (2X2)"
   ]
  },
  {
   "cell_type": "code",
   "execution_count": 0,
   "metadata": {
    "colab": {
     "base_uri": "https://localhost:8080/",
     "height": 1000
    },
    "colab_type": "code",
    "id": "4QLtog5UwXrA",
    "outputId": "d43576d4-d22f-4852-9087-e0deca7f47e6"
   },
   "outputs": [
    {
     "name": "stdout",
     "output_type": "stream",
     "text": [
      "Model: \"sequential_5\"\n",
      "_________________________________________________________________\n",
      "Layer (type)                 Output Shape              Param #   \n",
      "=================================================================\n",
      "conv2d_9 (Conv2D)            (None, 24, 24, 32)        832       \n",
      "_________________________________________________________________\n",
      "conv2d_10 (Conv2D)           (None, 20, 20, 64)        51264     \n",
      "_________________________________________________________________\n",
      "max_pooling2d_5 (MaxPooling2 (None, 10, 10, 64)        0         \n",
      "_________________________________________________________________\n",
      "dropout_9 (Dropout)          (None, 10, 10, 64)        0         \n",
      "_________________________________________________________________\n",
      "flatten_5 (Flatten)          (None, 6400)              0         \n",
      "_________________________________________________________________\n",
      "dense_9 (Dense)              (None, 128)               819328    \n",
      "_________________________________________________________________\n",
      "dropout_10 (Dropout)         (None, 128)               0         \n",
      "_________________________________________________________________\n",
      "dense_10 (Dense)             (None, 10)                1290      \n",
      "=================================================================\n",
      "Total params: 872,714\n",
      "Trainable params: 872,714\n",
      "Non-trainable params: 0\n",
      "_________________________________________________________________\n",
      "Train on 60000 samples, validate on 10000 samples\n",
      "Epoch 1/15\n",
      "60000/60000 [==============================] - 232s 4ms/step - loss: 0.2254 - accuracy: 0.9303 - val_loss: 0.0528 - val_accuracy: 0.9835\n",
      "Epoch 2/15\n",
      "60000/60000 [==============================] - 230s 4ms/step - loss: 0.0742 - accuracy: 0.9779 - val_loss: 0.0325 - val_accuracy: 0.9886\n",
      "Epoch 3/15\n",
      "60000/60000 [==============================] - 229s 4ms/step - loss: 0.0565 - accuracy: 0.9836 - val_loss: 0.0407 - val_accuracy: 0.9874\n",
      "Epoch 4/15\n",
      "60000/60000 [==============================] - 228s 4ms/step - loss: 0.0456 - accuracy: 0.9867 - val_loss: 0.0272 - val_accuracy: 0.9906\n",
      "Epoch 5/15\n",
      "60000/60000 [==============================] - 229s 4ms/step - loss: 0.0404 - accuracy: 0.9881 - val_loss: 0.0249 - val_accuracy: 0.9913\n",
      "Epoch 6/15\n",
      "60000/60000 [==============================] - 229s 4ms/step - loss: 0.0346 - accuracy: 0.9894 - val_loss: 0.0248 - val_accuracy: 0.9916\n",
      "Epoch 7/15\n",
      "60000/60000 [==============================] - 234s 4ms/step - loss: 0.0299 - accuracy: 0.9910 - val_loss: 0.0226 - val_accuracy: 0.9918\n",
      "Epoch 8/15\n",
      "60000/60000 [==============================] - 230s 4ms/step - loss: 0.0285 - accuracy: 0.9916 - val_loss: 0.0227 - val_accuracy: 0.9920\n",
      "Epoch 9/15\n",
      "60000/60000 [==============================] - 230s 4ms/step - loss: 0.0243 - accuracy: 0.9923 - val_loss: 0.0206 - val_accuracy: 0.9929\n",
      "Epoch 10/15\n",
      "60000/60000 [==============================] - 236s 4ms/step - loss: 0.0218 - accuracy: 0.9934 - val_loss: 0.0198 - val_accuracy: 0.9932\n",
      "Epoch 11/15\n",
      "60000/60000 [==============================] - 230s 4ms/step - loss: 0.0222 - accuracy: 0.9932 - val_loss: 0.0204 - val_accuracy: 0.9937\n",
      "Epoch 12/15\n",
      "60000/60000 [==============================] - 235s 4ms/step - loss: 0.0200 - accuracy: 0.9936 - val_loss: 0.0219 - val_accuracy: 0.9930\n",
      "Epoch 13/15\n",
      "60000/60000 [==============================] - 237s 4ms/step - loss: 0.0193 - accuracy: 0.9939 - val_loss: 0.0203 - val_accuracy: 0.9936\n",
      "Epoch 14/15\n",
      "60000/60000 [==============================] - 237s 4ms/step - loss: 0.0174 - accuracy: 0.9945 - val_loss: 0.0214 - val_accuracy: 0.9929\n",
      "Epoch 15/15\n",
      "60000/60000 [==============================] - 236s 4ms/step - loss: 0.0160 - accuracy: 0.9948 - val_loss: 0.0207 - val_accuracy: 0.9934\n",
      "Test loss: 0.020748127230865065\n",
      "Test accuracy: 0.993399977684021\n",
      "CPU times: user 1h 50min, sys: 1min 20s, total: 1h 51min 21s\n",
      "Wall time: 58min 12s\n"
     ]
    }
   ],
   "source": [
    "%%time\n",
    "model = Sequential()\n",
    "model.add(Conv2D(32, kernel_size=(5, 5),\n",
    "                 activation='relu',\n",
    "                 input_shape=input_shape))\n",
    "model.add(Conv2D(64, (5, 5), activation='relu'))\n",
    "model.add(MaxPooling2D(pool_size=(2, 2)))\n",
    "model.add(Dropout(0.25))\n",
    "model.add(Flatten())\n",
    "model.add(Dense(128, activation='relu'))\n",
    "model.add(Dropout(0.5))\n",
    "model.add(Dense(num_classes, activation='softmax'))\n",
    "\n",
    "model.summary()\n",
    "model.compile(loss=keras.losses.categorical_crossentropy,\n",
    "              optimizer=keras.optimizers.Adadelta(),\n",
    "              metrics=['accuracy'])\n",
    "\n",
    "training = model.fit(x_train, y_train,\n",
    "          batch_size=batch_size,\n",
    "          epochs=epochs,\n",
    "          verbose=1,\n",
    "          validation_data=(x_test, y_test))\n",
    "\n",
    "score = model.evaluate(x_test, y_test, verbose=0)\n",
    "print('Test loss:', score[0])\n",
    "print('Test accuracy:', score[1])"
   ]
  },
  {
   "cell_type": "code",
   "execution_count": 0,
   "metadata": {
    "colab": {
     "base_uri": "https://localhost:8080/",
     "height": 279
    },
    "colab_type": "code",
    "id": "YjWDelNQ4_sp",
    "outputId": "008cfc30-773b-428b-8202-7796e3230b22"
   },
   "outputs": [
    {
     "data": {
      "image/png": "[encoded data removed]",
      "text/plain": [
       "<Figure size 432x288 with 1 Axes>"
      ]
     },
     "metadata": {
      "needs_background": "light",
      "tags": []
     },
     "output_type": "display_data"
    }
   ],
   "source": [
    "# plotting train and test error\n",
    "plot_loss(training, epochs)"
   ]
  },
  {
   "cell_type": "markdown",
   "metadata": {
    "colab_type": "text",
    "id": "8Bj27HPHGOGF"
   },
   "source": [
    "best epoch is 11. It starts overfitting after 11 epochs.\n",
    "Here best accuracy is 99.37"
   ]
  },
  {
   "cell_type": "markdown",
   "metadata": {
    "colab_type": "text",
    "id": "U_YrJh1qdARV"
   },
   "source": [
    "## 3 conv layers, kernels = (7x7),(5x5),(3x3), max pooling =(2x2)"
   ]
  },
  {
   "cell_type": "code",
   "execution_count": 0,
   "metadata": {
    "colab": {
     "base_uri": "https://localhost:8080/",
     "height": 1000
    },
    "colab_type": "code",
    "id": "MbaAKRAkyRF9",
    "outputId": "a9de5435-33da-4dac-e0ad-823969fd7c6e"
   },
   "outputs": [
    {
     "name": "stdout",
     "output_type": "stream",
     "text": [
      "Model: \"sequential_6\"\n",
      "_________________________________________________________________\n",
      "Layer (type)                 Output Shape              Param #   \n",
      "=================================================================\n",
      "conv2d_11 (Conv2D)           (None, 22, 22, 32)        1600      \n",
      "_________________________________________________________________\n",
      "conv2d_12 (Conv2D)           (None, 18, 18, 64)        51264     \n",
      "_________________________________________________________________\n",
      "max_pooling2d_6 (MaxPooling2 (None, 9, 9, 64)          0         \n",
      "_________________________________________________________________\n",
      "dropout_11 (Dropout)         (None, 9, 9, 64)          0         \n",
      "_________________________________________________________________\n",
      "conv2d_13 (Conv2D)           (None, 7, 7, 128)         73856     \n",
      "_________________________________________________________________\n",
      "max_pooling2d_7 (MaxPooling2 (None, 3, 3, 128)         0         \n",
      "_________________________________________________________________\n",
      "dropout_12 (Dropout)         (None, 3, 3, 128)         0         \n",
      "_________________________________________________________________\n",
      "flatten_6 (Flatten)          (None, 1152)              0         \n",
      "_________________________________________________________________\n",
      "dense_11 (Dense)             (None, 512)               590336    \n",
      "_________________________________________________________________\n",
      "dropout_13 (Dropout)         (None, 512)               0         \n",
      "_________________________________________________________________\n",
      "dense_12 (Dense)             (None, 10)                5130      \n",
      "=================================================================\n",
      "Total params: 722,186\n",
      "Trainable params: 722,186\n",
      "Non-trainable params: 0\n",
      "_________________________________________________________________\n",
      "Train on 60000 samples, validate on 10000 samples\n",
      "Epoch 1/15\n",
      "60000/60000 [==============================] - 225s 4ms/step - loss: 0.2804 - accuracy: 0.9097 - val_loss: 0.0493 - val_accuracy: 0.9831\n",
      "Epoch 2/15\n",
      "60000/60000 [==============================] - 225s 4ms/step - loss: 0.0775 - accuracy: 0.9762 - val_loss: 0.0334 - val_accuracy: 0.9890\n",
      "Epoch 3/15\n",
      "60000/60000 [==============================] - 225s 4ms/step - loss: 0.0542 - accuracy: 0.9834 - val_loss: 0.0306 - val_accuracy: 0.9898\n",
      "Epoch 4/15\n",
      "60000/60000 [==============================] - 226s 4ms/step - loss: 0.0456 - accuracy: 0.9862 - val_loss: 0.0238 - val_accuracy: 0.9922\n",
      "Epoch 5/15\n",
      "60000/60000 [==============================] - 227s 4ms/step - loss: 0.0384 - accuracy: 0.9882 - val_loss: 0.0206 - val_accuracy: 0.9932\n",
      "Epoch 6/15\n",
      "60000/60000 [==============================] - 230s 4ms/step - loss: 0.0331 - accuracy: 0.9899 - val_loss: 0.0193 - val_accuracy: 0.9941\n",
      "Epoch 7/15\n",
      "60000/60000 [==============================] - 230s 4ms/step - loss: 0.0308 - accuracy: 0.9904 - val_loss: 0.0190 - val_accuracy: 0.9939\n",
      "Epoch 8/15\n",
      "60000/60000 [==============================] - 230s 4ms/step - loss: 0.0281 - accuracy: 0.9912 - val_loss: 0.0234 - val_accuracy: 0.9922\n",
      "Epoch 9/15\n",
      "60000/60000 [==============================] - 237s 4ms/step - loss: 0.0253 - accuracy: 0.9922 - val_loss: 0.0195 - val_accuracy: 0.9941\n",
      "Epoch 10/15\n",
      "60000/60000 [==============================] - 230s 4ms/step - loss: 0.0229 - accuracy: 0.9928 - val_loss: 0.0170 - val_accuracy: 0.9939\n",
      "Epoch 11/15\n",
      "60000/60000 [==============================] - 227s 4ms/step - loss: 0.0224 - accuracy: 0.9926 - val_loss: 0.0149 - val_accuracy: 0.9953\n",
      "Epoch 12/15\n",
      "60000/60000 [==============================] - 234s 4ms/step - loss: 0.0192 - accuracy: 0.9938 - val_loss: 0.0168 - val_accuracy: 0.9950\n",
      "Epoch 13/15\n",
      "60000/60000 [==============================] - 229s 4ms/step - loss: 0.0185 - accuracy: 0.9941 - val_loss: 0.0150 - val_accuracy: 0.9955\n",
      "Epoch 14/15\n",
      "60000/60000 [==============================] - 230s 4ms/step - loss: 0.0173 - accuracy: 0.9948 - val_loss: 0.0187 - val_accuracy: 0.9941\n",
      "Epoch 15/15\n",
      "60000/60000 [==============================] - 233s 4ms/step - loss: 0.0169 - accuracy: 0.9947 - val_loss: 0.0188 - val_accuracy: 0.9951\n",
      "Test loss: 0.01883504462489873\n",
      "Test accuracy: 0.9951000213623047\n"
     ]
    }
   ],
   "source": [
    "model = Sequential()\n",
    "model.add(Conv2D(32, kernel_size=(7, 7),\n",
    "                 activation='relu',\n",
    "                 input_shape=input_shape))\n",
    "model.add(Conv2D(64, (5, 5), activation='relu'))\n",
    "model.add(MaxPooling2D(pool_size=(2, 2)))\n",
    "model.add(Dropout(0.25))\n",
    "\n",
    "model.add(Conv2D(128, (3,3), activation='relu'))\n",
    "model.add(MaxPooling2D(pool_size = (2,2)))\n",
    "model.add(Dropout(0.3))\n",
    "\n",
    "model.add(Flatten())\n",
    "model.add(Dense(512, activation='relu'))\n",
    "model.add(Dropout(0.5))\n",
    "model.add(Dense(num_classes, activation='softmax'))\n",
    "\n",
    "model.summary()\n",
    "model.compile(loss=keras.losses.categorical_crossentropy,\n",
    "              optimizer=keras.optimizers.Adadelta(),\n",
    "              metrics=['accuracy'])\n",
    "\n",
    "training = model.fit(x_train, y_train,\n",
    "          batch_size=batch_size,\n",
    "          epochs=epochs,\n",
    "          verbose=1,\n",
    "          validation_data=(x_test, y_test))\n",
    "\n",
    "score = model.evaluate(x_test, y_test, verbose=0)\n",
    "print('Test loss:', score[0])\n",
    "print('Test accuracy:', score[1])"
   ]
  },
  {
   "cell_type": "code",
   "execution_count": 0,
   "metadata": {
    "colab": {
     "base_uri": "https://localhost:8080/",
     "height": 279
    },
    "colab_type": "code",
    "id": "mdDFDXX05at7",
    "outputId": "2f10f919-8f70-46d3-ea03-c1e9fc88bef7"
   },
   "outputs": [
    {
     "data": {
      "image/png": "[encoded data removed]",
      "text/plain": [
       "<Figure size 432x288 with 1 Axes>"
      ]
     },
     "metadata": {
      "needs_background": "light",
      "tags": []
     },
     "output_type": "display_data"
    }
   ],
   "source": [
    "# plotting train and test error\n",
    "plot_loss(training, epochs)"
   ]
  },
  {
   "cell_type": "markdown",
   "metadata": {
    "colab_type": "text",
    "id": "5S-ngkB4GVD7"
   },
   "source": [
    "best epoch is 13. Its overfitting from epoch 14 onwards.Best accuracy is 99.55%"
   ]
  },
  {
   "cell_type": "markdown",
   "metadata": {
    "colab_type": "text",
    "id": "9r7Lhi3CznAU"
   },
   "source": [
    "## 2 conv layers, kernels =(3x3),(3x3),Max pooling = (2x2), padding = same"
   ]
  },
  {
   "cell_type": "code",
   "execution_count": 0,
   "metadata": {
    "colab": {
     "base_uri": "https://localhost:8080/",
     "height": 1000
    },
    "colab_type": "code",
    "id": "IxYLDNb-48Rq",
    "outputId": "f4953d6a-5b3f-46d7-9bf0-52f71168dad3"
   },
   "outputs": [
    {
     "name": "stdout",
     "output_type": "stream",
     "text": [
      "Model: \"sequential_7\"\n",
      "_________________________________________________________________\n",
      "Layer (type)                 Output Shape              Param #   \n",
      "=================================================================\n",
      "conv2d_14 (Conv2D)           (None, 28, 28, 32)        320       \n",
      "_________________________________________________________________\n",
      "conv2d_15 (Conv2D)           (None, 28, 28, 64)        18496     \n",
      "_________________________________________________________________\n",
      "max_pooling2d_8 (MaxPooling2 (None, 14, 14, 64)        0         \n",
      "_________________________________________________________________\n",
      "dropout_14 (Dropout)         (None, 14, 14, 64)        0         \n",
      "_________________________________________________________________\n",
      "flatten_7 (Flatten)          (None, 12544)             0         \n",
      "_________________________________________________________________\n",
      "dense_13 (Dense)             (None, 128)               1605760   \n",
      "_________________________________________________________________\n",
      "dropout_15 (Dropout)         (None, 128)               0         \n",
      "_________________________________________________________________\n",
      "dense_14 (Dense)             (None, 10)                1290      \n",
      "=================================================================\n",
      "Total params: 1,625,866\n",
      "Trainable params: 1,625,866\n",
      "Non-trainable params: 0\n",
      "_________________________________________________________________\n",
      "Train on 60000 samples, validate on 10000 samples\n",
      "Epoch 1/15\n",
      "60000/60000 [==============================] - 193s 3ms/step - loss: 0.2618 - accuracy: 0.9196 - val_loss: 0.0563 - val_accuracy: 0.9819\n",
      "Epoch 2/15\n",
      "60000/60000 [==============================] - 190s 3ms/step - loss: 0.0897 - accuracy: 0.9735 - val_loss: 0.0394 - val_accuracy: 0.9866\n",
      "Epoch 3/15\n",
      "60000/60000 [==============================] - 190s 3ms/step - loss: 0.0656 - accuracy: 0.9803 - val_loss: 0.0325 - val_accuracy: 0.9885\n",
      "Epoch 4/15\n",
      "60000/60000 [==============================] - 190s 3ms/step - loss: 0.0554 - accuracy: 0.9833 - val_loss: 0.0310 - val_accuracy: 0.9894\n",
      "Epoch 5/15\n",
      "60000/60000 [==============================] - 190s 3ms/step - loss: 0.0471 - accuracy: 0.9860 - val_loss: 0.0295 - val_accuracy: 0.9900\n",
      "Epoch 6/15\n",
      "60000/60000 [==============================] - 194s 3ms/step - loss: 0.0414 - accuracy: 0.9875 - val_loss: 0.0346 - val_accuracy: 0.9887\n",
      "Epoch 7/15\n",
      "60000/60000 [==============================] - 194s 3ms/step - loss: 0.0382 - accuracy: 0.9885 - val_loss: 0.0272 - val_accuracy: 0.9905\n",
      "Epoch 8/15\n",
      "60000/60000 [==============================] - 197s 3ms/step - loss: 0.0358 - accuracy: 0.9890 - val_loss: 0.0281 - val_accuracy: 0.9910\n",
      "Epoch 9/15\n",
      "60000/60000 [==============================] - 199s 3ms/step - loss: 0.0338 - accuracy: 0.9897 - val_loss: 0.0286 - val_accuracy: 0.9912\n",
      "Epoch 10/15\n",
      "60000/60000 [==============================] - 203s 3ms/step - loss: 0.0318 - accuracy: 0.9903 - val_loss: 0.0279 - val_accuracy: 0.9917\n",
      "Epoch 11/15\n",
      "60000/60000 [==============================] - 210s 3ms/step - loss: 0.0295 - accuracy: 0.9912 - val_loss: 0.0298 - val_accuracy: 0.9908\n",
      "Epoch 12/15\n",
      "60000/60000 [==============================] - 206s 3ms/step - loss: 0.0283 - accuracy: 0.9917 - val_loss: 0.0272 - val_accuracy: 0.9921\n",
      "Epoch 13/15\n",
      "60000/60000 [==============================] - 197s 3ms/step - loss: 0.0260 - accuracy: 0.9918 - val_loss: 0.0303 - val_accuracy: 0.9904\n",
      "Epoch 14/15\n",
      "60000/60000 [==============================] - 200s 3ms/step - loss: 0.0254 - accuracy: 0.9919 - val_loss: 0.0319 - val_accuracy: 0.9920\n",
      "Epoch 15/15\n",
      "60000/60000 [==============================] - 196s 3ms/step - loss: 0.0256 - accuracy: 0.9923 - val_loss: 0.0287 - val_accuracy: 0.9917\n",
      "Test loss: 0.028727352098264054\n",
      "Test accuracy: 0.9916999936103821\n"
     ]
    }
   ],
   "source": [
    "model = Sequential()\n",
    "model.add(Conv2D(32, kernel_size=(3, 3),\n",
    "                 activation='relu', padding ='same',\n",
    "                 input_shape=input_shape))\n",
    "model.add(Conv2D(64, (3, 3), activation='relu', padding = 'same'))\n",
    "model.add(MaxPooling2D(pool_size=(2, 2)))\n",
    "model.add(Dropout(0.25))\n",
    "model.add(Flatten())\n",
    "model.add(Dense(128, activation='relu'))\n",
    "model.add(Dropout(0.5))\n",
    "model.add(Dense(num_classes, activation='softmax'))\n",
    "\n",
    "model.summary()\n",
    "model.compile(loss=keras.losses.categorical_crossentropy,\n",
    "              optimizer=keras.optimizers.Adadelta(),\n",
    "              metrics=['accuracy'])\n",
    "\n",
    "training = model.fit(x_train, y_train,\n",
    "          batch_size=batch_size,\n",
    "          epochs=epochs,\n",
    "          verbose=1,\n",
    "          validation_data=(x_test, y_test))\n",
    "score = model.evaluate(x_test, y_test, verbose=0)\n",
    "print('Test loss:', score[0])\n",
    "print('Test accuracy:', score[1])"
   ]
  },
  {
   "cell_type": "code",
   "execution_count": 0,
   "metadata": {
    "colab": {
     "base_uri": "https://localhost:8080/",
     "height": 279
    },
    "colab_type": "code",
    "id": "GkUDwZNi5oiP",
    "outputId": "fe833f7d-f7bd-475a-923e-b267aabb88b0"
   },
   "outputs": [
    {
     "data": {
      "image/png": "[encoded data removed]",
      "text/plain": [
       "<Figure size 432x288 with 1 Axes>"
      ]
     },
     "metadata": {
      "needs_background": "light",
      "tags": []
     },
     "output_type": "display_data"
    }
   ],
   "source": [
    "# plotting train and test error\n",
    "plot_loss(training, epochs)"
   ]
  },
  {
   "cell_type": "markdown",
   "metadata": {
    "colab_type": "text",
    "id": "oq1LcUzxGd83"
   },
   "source": [
    "best epoch is 10. Its overfitting from epoch 11. Best accuracy is 99.17%"
   ]
  },
  {
   "cell_type": "markdown",
   "metadata": {
    "colab_type": "text",
    "id": "jUzQw68jeZbb"
   },
   "source": [
    "## 3 conv layers, kernels = (7x7),(5x5),(3x3), padding =same"
   ]
  },
  {
   "cell_type": "code",
   "execution_count": 0,
   "metadata": {
    "colab": {
     "base_uri": "https://localhost:8080/",
     "height": 1000
    },
    "colab_type": "code",
    "id": "WGMpS3BE5VH5",
    "outputId": "7f742e4d-f006-440a-ba2c-14d8135994fe"
   },
   "outputs": [
    {
     "name": "stdout",
     "output_type": "stream",
     "text": [
      "Model: \"sequential_8\"\n",
      "_________________________________________________________________\n",
      "Layer (type)                 Output Shape              Param #   \n",
      "=================================================================\n",
      "conv2d_16 (Conv2D)           (None, 28, 28, 32)        1600      \n",
      "_________________________________________________________________\n",
      "conv2d_17 (Conv2D)           (None, 28, 28, 64)        51264     \n",
      "_________________________________________________________________\n",
      "max_pooling2d_9 (MaxPooling2 (None, 14, 14, 64)        0         \n",
      "_________________________________________________________________\n",
      "dropout_16 (Dropout)         (None, 14, 14, 64)        0         \n",
      "_________________________________________________________________\n",
      "conv2d_18 (Conv2D)           (None, 14, 14, 128)       73856     \n",
      "_________________________________________________________________\n",
      "max_pooling2d_10 (MaxPooling (None, 7, 7, 128)         0         \n",
      "_________________________________________________________________\n",
      "dropout_17 (Dropout)         (None, 7, 7, 128)         0         \n",
      "_________________________________________________________________\n",
      "dense_15 (Dense)             (None, 7, 7, 128)         16512     \n",
      "_________________________________________________________________\n",
      "flatten_8 (Flatten)          (None, 6272)              0         \n",
      "_________________________________________________________________\n",
      "dense_16 (Dense)             (None, 128)               802944    \n",
      "_________________________________________________________________\n",
      "dropout_18 (Dropout)         (None, 128)               0         \n",
      "_________________________________________________________________\n",
      "dense_17 (Dense)             (None, 10)                1290      \n",
      "=================================================================\n",
      "Total params: 947,466\n",
      "Trainable params: 947,466\n",
      "Non-trainable params: 0\n",
      "_________________________________________________________________\n",
      "Train on 60000 samples, validate on 10000 samples\n",
      "Epoch 1/15\n",
      "60000/60000 [==============================] - 568s 9ms/step - loss: 0.2878 - accuracy: 0.9090 - val_loss: 0.0494 - val_accuracy: 0.9842\n",
      "Epoch 2/15\n",
      "60000/60000 [==============================] - 575s 10ms/step - loss: 0.0841 - accuracy: 0.9751 - val_loss: 0.0300 - val_accuracy: 0.9901\n",
      "Epoch 3/15\n",
      "60000/60000 [==============================] - 573s 10ms/step - loss: 0.0623 - accuracy: 0.9818 - val_loss: 0.0283 - val_accuracy: 0.9905\n",
      "Epoch 4/15\n",
      "60000/60000 [==============================] - 563s 9ms/step - loss: 0.0516 - accuracy: 0.9850 - val_loss: 0.0251 - val_accuracy: 0.9915\n",
      "Epoch 5/15\n",
      "60000/60000 [==============================] - 561s 9ms/step - loss: 0.0436 - accuracy: 0.9873 - val_loss: 0.0270 - val_accuracy: 0.9907\n",
      "Epoch 6/15\n",
      "60000/60000 [==============================] - 567s 9ms/step - loss: 0.0380 - accuracy: 0.9891 - val_loss: 0.0184 - val_accuracy: 0.9934\n",
      "Epoch 7/15\n",
      "60000/60000 [==============================] - 567s 9ms/step - loss: 0.0350 - accuracy: 0.9897 - val_loss: 0.0172 - val_accuracy: 0.9943\n",
      "Epoch 8/15\n",
      "60000/60000 [==============================] - 571s 10ms/step - loss: 0.0311 - accuracy: 0.9904 - val_loss: 0.0180 - val_accuracy: 0.9940\n",
      "Epoch 9/15\n",
      "60000/60000 [==============================] - 582s 10ms/step - loss: 0.0293 - accuracy: 0.9913 - val_loss: 0.0187 - val_accuracy: 0.9936\n",
      "Epoch 10/15\n",
      "60000/60000 [==============================] - 635s 11ms/step - loss: 0.0257 - accuracy: 0.9924 - val_loss: 0.0197 - val_accuracy: 0.9940\n",
      "Epoch 11/15\n",
      "60000/60000 [==============================] - 596s 10ms/step - loss: 0.0244 - accuracy: 0.9926 - val_loss: 0.0156 - val_accuracy: 0.9948\n",
      "Epoch 12/15\n",
      "60000/60000 [==============================] - 569s 9ms/step - loss: 0.0238 - accuracy: 0.9930 - val_loss: 0.0167 - val_accuracy: 0.9940\n",
      "Epoch 13/15\n",
      "60000/60000 [==============================] - 573s 10ms/step - loss: 0.0217 - accuracy: 0.9937 - val_loss: 0.0180 - val_accuracy: 0.9942\n",
      "Epoch 14/15\n",
      "60000/60000 [==============================] - 577s 10ms/step - loss: 0.0211 - accuracy: 0.9938 - val_loss: 0.0156 - val_accuracy: 0.9946\n",
      "Epoch 15/15\n",
      "60000/60000 [==============================] - 591s 10ms/step - loss: 0.0188 - accuracy: 0.9946 - val_loss: 0.0199 - val_accuracy: 0.9931\n",
      "Test loss: 0.01988242387709852\n",
      "Test accuracy: 0.9930999875068665\n"
     ]
    }
   ],
   "source": [
    "model = Sequential()\n",
    "model.add(Conv2D(32, kernel_size=(7, 7),\n",
    "                 activation='relu', padding ='same',\n",
    "                 input_shape=input_shape))\n",
    "model.add(Conv2D(64, (5, 5), activation='relu', padding = 'same'))\n",
    "model.add(MaxPooling2D(pool_size=(2, 2)))\n",
    "model.add(Dropout(0.25))\n",
    "\n",
    "model.add(Conv2D(128, (3,3), activation = 'relu',padding='same'))\n",
    "model.add(MaxPooling2D(pool_size=(2,2)))\n",
    "model.add(Dropout(0.3))\n",
    "model.add(Dense(128, activation='relu'))\n",
    "\n",
    "model.add(Flatten())\n",
    "model.add(Dense(128, activation='relu'))\n",
    "model.add(Dropout(0.5))\n",
    "model.add(Dense(num_classes, activation='softmax'))\n",
    "\n",
    "model.summary()\n",
    "model.compile(loss=keras.losses.categorical_crossentropy,\n",
    "              optimizer=keras.optimizers.Adadelta(),\n",
    "              metrics=['accuracy'])\n",
    "\n",
    "training = model.fit(x_train, y_train,\n",
    "          batch_size=batch_size,\n",
    "          epochs=epochs,\n",
    "          verbose=1,\n",
    "          validation_data=(x_test, y_test))\n",
    "score = model.evaluate(x_test, y_test, verbose=0)\n",
    "print('Test loss:', score[0])\n",
    "print('Test accuracy:', score[1])"
   ]
  },
  {
   "cell_type": "code",
   "execution_count": 0,
   "metadata": {
    "colab": {
     "base_uri": "https://localhost:8080/",
     "height": 282
    },
    "colab_type": "code",
    "id": "8QyIvZrj5yZX",
    "outputId": "5ffc4fbf-11fb-474a-bf26-1f53ffe7ee56"
   },
   "outputs": [
    {
     "data": {
      "image/png": "[encoded data removed]",
      "text/plain": [
       "<Figure size 432x288 with 1 Axes>"
      ]
     },
     "metadata": {
      "needs_background": "light",
      "tags": []
     },
     "output_type": "display_data"
    }
   ],
   "source": [
    "# plotting train and test error\n",
    "plot_loss(training, epochs)"
   ]
  },
  {
   "cell_type": "markdown",
   "metadata": {
    "colab_type": "text",
    "id": "nsySBJ0_FFih"
   },
   "source": [
    "best epoch is 7. Best accuracy 99.43%"
   ]
  },
  {
   "cell_type": "markdown",
   "metadata": {
    "colab_type": "text",
    "id": "UQMjY_vneq-P"
   },
   "source": [
    "## 3 conv layers, kernels=(5x5), padding = same, strides= 1"
   ]
  },
  {
   "cell_type": "code",
   "execution_count": 0,
   "metadata": {
    "colab": {
     "base_uri": "https://localhost:8080/",
     "height": 1000
    },
    "colab_type": "code",
    "id": "C-ZAg99C5hcD",
    "outputId": "02e85981-5db3-4093-c88d-bacad2a525d7"
   },
   "outputs": [
    {
     "name": "stdout",
     "output_type": "stream",
     "text": [
      "Model: \"sequential_9\"\n",
      "_________________________________________________________________\n",
      "Layer (type)                 Output Shape              Param #   \n",
      "=================================================================\n",
      "conv2d_19 (Conv2D)           (None, 24, 24, 32)        832       \n",
      "_________________________________________________________________\n",
      "conv2d_20 (Conv2D)           (None, 20, 20, 64)        51264     \n",
      "_________________________________________________________________\n",
      "max_pooling2d_11 (MaxPooling (None, 10, 10, 64)        0         \n",
      "_________________________________________________________________\n",
      "dropout_19 (Dropout)         (None, 10, 10, 64)        0         \n",
      "_________________________________________________________________\n",
      "conv2d_21 (Conv2D)           (None, 6, 6, 80)          128080    \n",
      "_________________________________________________________________\n",
      "max_pooling2d_12 (MaxPooling (None, 6, 6, 80)          0         \n",
      "_________________________________________________________________\n",
      "dropout_20 (Dropout)         (None, 6, 6, 80)          0         \n",
      "_________________________________________________________________\n",
      "flatten_9 (Flatten)          (None, 2880)              0         \n",
      "_________________________________________________________________\n",
      "dense_18 (Dense)             (None, 128)               368768    \n",
      "_________________________________________________________________\n",
      "dropout_21 (Dropout)         (None, 128)               0         \n",
      "_________________________________________________________________\n",
      "dense_19 (Dense)             (None, 10)                1290      \n",
      "=================================================================\n",
      "Total params: 550,234\n",
      "Trainable params: 550,234\n",
      "Non-trainable params: 0\n",
      "_________________________________________________________________\n",
      "Train on 60000 samples, validate on 10000 samples\n",
      "Epoch 1/15\n",
      "60000/60000 [==============================] - 286s 5ms/step - loss: 0.3174 - accuracy: 0.8973 - val_loss: 0.0386 - val_accuracy: 0.9877\n",
      "Epoch 2/15\n",
      "60000/60000 [==============================] - 281s 5ms/step - loss: 0.0798 - accuracy: 0.9762 - val_loss: 0.0317 - val_accuracy: 0.9899\n",
      "Epoch 3/15\n",
      "60000/60000 [==============================] - 275s 5ms/step - loss: 0.0622 - accuracy: 0.9821 - val_loss: 0.0224 - val_accuracy: 0.9926\n",
      "Epoch 4/15\n",
      "60000/60000 [==============================] - 275s 5ms/step - loss: 0.0500 - accuracy: 0.9855 - val_loss: 0.0240 - val_accuracy: 0.9919\n",
      "Epoch 5/15\n",
      "60000/60000 [==============================] - 276s 5ms/step - loss: 0.0467 - accuracy: 0.9860 - val_loss: 0.0204 - val_accuracy: 0.9935\n",
      "Epoch 6/15\n",
      "60000/60000 [==============================] - 276s 5ms/step - loss: 0.0399 - accuracy: 0.9884 - val_loss: 0.0186 - val_accuracy: 0.9941\n",
      "Epoch 7/15\n",
      "60000/60000 [==============================] - 277s 5ms/step - loss: 0.0383 - accuracy: 0.9891 - val_loss: 0.0189 - val_accuracy: 0.9943\n",
      "Epoch 8/15\n",
      "60000/60000 [==============================] - 276s 5ms/step - loss: 0.0357 - accuracy: 0.9895 - val_loss: 0.0178 - val_accuracy: 0.9939\n",
      "Epoch 9/15\n",
      "60000/60000 [==============================] - 275s 5ms/step - loss: 0.0335 - accuracy: 0.9904 - val_loss: 0.0183 - val_accuracy: 0.9942\n",
      "Epoch 10/15\n",
      "60000/60000 [==============================] - 281s 5ms/step - loss: 0.0314 - accuracy: 0.9908 - val_loss: 0.0202 - val_accuracy: 0.9940\n",
      "Epoch 11/15\n",
      "60000/60000 [==============================] - 276s 5ms/step - loss: 0.0293 - accuracy: 0.9911 - val_loss: 0.0255 - val_accuracy: 0.9930\n",
      "Epoch 12/15\n",
      "60000/60000 [==============================] - 283s 5ms/step - loss: 0.0309 - accuracy: 0.9909 - val_loss: 0.0212 - val_accuracy: 0.9929\n",
      "Epoch 13/15\n",
      "60000/60000 [==============================] - 276s 5ms/step - loss: 0.0276 - accuracy: 0.9919 - val_loss: 0.0182 - val_accuracy: 0.9944\n",
      "Epoch 14/15\n",
      "60000/60000 [==============================] - 276s 5ms/step - loss: 0.0260 - accuracy: 0.9925 - val_loss: 0.0213 - val_accuracy: 0.9941\n",
      "Epoch 15/15\n",
      "60000/60000 [==============================] - 279s 5ms/step - loss: 0.0257 - accuracy: 0.9931 - val_loss: 0.0183 - val_accuracy: 0.9944\n",
      "Test loss: 0.018290850276246533\n",
      "Test accuracy: 0.9944000244140625\n",
      "CPU times: user 2h 11min 45s, sys: 1min 44s, total: 2h 13min 29s\n",
      "Wall time: 1h 9min 40s\n"
     ]
    }
   ],
   "source": [
    "%%time\n",
    "model = Sequential()\n",
    "model.add(Conv2D(32, kernel_size=(5, 5),\n",
    "                 activation='relu',\n",
    "                 input_shape=input_shape))\n",
    "model.add(Conv2D(64, (5, 5),strides=1, activation='relu'))\n",
    "model.add(MaxPooling2D(pool_size=(2, 2)))\n",
    "model.add(Dropout(0.25))\n",
    "\n",
    "model.add(Conv2D(80, (5,5), activation= 'relu'))\n",
    "model.add(MaxPooling2D(pool_size=(3,3),padding = 'same',strides=1))\n",
    "model.add(Dropout(0.75))\n",
    "\n",
    "model.add(Flatten())\n",
    "model.add(Dense(128, activation='relu'))\n",
    "model.add(Dropout(0.5))\n",
    "model.add(Dense(num_classes, activation='softmax'))\n",
    "\n",
    "model.summary()\n",
    "model.compile(loss=keras.losses.categorical_crossentropy,\n",
    "              optimizer=keras.optimizers.Adam(),\n",
    "              metrics=['accuracy'])\n",
    "\n",
    "training = model.fit(x_train, y_train,\n",
    "          batch_size=batch_size,\n",
    "          epochs=epochs,\n",
    "          verbose=1,\n",
    "          validation_data=(x_test, y_test))\n",
    "score = model.evaluate(x_test, y_test, verbose=0)\n",
    "print('Test loss:', score[0])\n",
    "print('Test accuracy:', score[1])"
   ]
  },
  {
   "cell_type": "code",
   "execution_count": 0,
   "metadata": {
    "colab": {
     "base_uri": "https://localhost:8080/",
     "height": 279
    },
    "colab_type": "code",
    "id": "1K0ae-VE52-l",
    "outputId": "2bf8227e-3b00-49d3-b325-00acea1027b9"
   },
   "outputs": [
    {
     "data": {
      "image/png": "[encoded data removed]",
      "text/plain": [
       "<Figure size 432x288 with 1 Axes>"
      ]
     },
     "metadata": {
      "needs_background": "light",
      "tags": []
     },
     "output_type": "display_data"
    }
   ],
   "source": [
    "# plotting train and test error\n",
    "plot_loss(training, epochs)"
   ]
  },
  {
   "cell_type": "markdown",
   "metadata": {
    "colab_type": "text",
    "id": "1tuXrfaxGvRW"
   },
   "source": [
    "best epoch is 9. Best accuracy 99.42%"
   ]
  },
  {
   "cell_type": "markdown",
   "metadata": {
    "colab_type": "text",
    "id": "kpkyxteie4gP"
   },
   "source": [
    "## 3 conv layers, kernels =(7x7), padding = same, strides =1,2"
   ]
  },
  {
   "cell_type": "code",
   "execution_count": 0,
   "metadata": {
    "colab": {
     "base_uri": "https://localhost:8080/",
     "height": 1000
    },
    "colab_type": "code",
    "id": "Szq1UJIz9ppV",
    "outputId": "d885af2a-23bf-45ee-db9a-46fe66d4c9a6"
   },
   "outputs": [
    {
     "name": "stdout",
     "output_type": "stream",
     "text": [
      "Model: \"sequential_1\"\n",
      "_________________________________________________________________\n",
      "Layer (type)                 Output Shape              Param #   \n",
      "=================================================================\n",
      "conv2d_1 (Conv2D)            (None, 28, 28, 32)        1600      \n",
      "_________________________________________________________________\n",
      "conv2d_2 (Conv2D)            (None, 22, 22, 64)        100416    \n",
      "_________________________________________________________________\n",
      "max_pooling2d_1 (MaxPooling2 (None, 11, 11, 64)        0         \n",
      "_________________________________________________________________\n",
      "dropout_1 (Dropout)          (None, 11, 11, 64)        0         \n",
      "_________________________________________________________________\n",
      "conv2d_3 (Conv2D)            (None, 5, 5, 80)          250960    \n",
      "_________________________________________________________________\n",
      "max_pooling2d_2 (MaxPooling2 (None, 3, 3, 80)          0         \n",
      "_________________________________________________________________\n",
      "dropout_2 (Dropout)          (None, 3, 3, 80)          0         \n",
      "_________________________________________________________________\n",
      "flatten_1 (Flatten)          (None, 720)               0         \n",
      "_________________________________________________________________\n",
      "dense_1 (Dense)              (None, 128)               92288     \n",
      "_________________________________________________________________\n",
      "dropout_3 (Dropout)          (None, 128)               0         \n",
      "_________________________________________________________________\n",
      "dense_2 (Dense)              (None, 10)                1290      \n",
      "=================================================================\n",
      "Total params: 446,554\n",
      "Trainable params: 446,554\n",
      "Non-trainable params: 0\n",
      "_________________________________________________________________\n",
      "Train on 60000 samples, validate on 10000 samples\n",
      "Epoch 1/15\n",
      "60000/60000 [==============================] - 568s 9ms/step - loss: 0.4405 - accuracy: 0.8557 - val_loss: 0.0462 - val_accuracy: 0.9856\n",
      "Epoch 2/15\n",
      "60000/60000 [==============================] - 566s 9ms/step - loss: 0.1057 - accuracy: 0.9701 - val_loss: 0.0371 - val_accuracy: 0.9880\n",
      "Epoch 3/15\n",
      "60000/60000 [==============================] - 566s 9ms/step - loss: 0.0766 - accuracy: 0.9791 - val_loss: 0.0285 - val_accuracy: 0.9914\n",
      "Epoch 4/15\n",
      "60000/60000 [==============================] - 572s 10ms/step - loss: 0.0654 - accuracy: 0.9825 - val_loss: 0.0217 - val_accuracy: 0.9932\n",
      "Epoch 5/15\n",
      "60000/60000 [==============================] - 573s 10ms/step - loss: 0.0564 - accuracy: 0.9847 - val_loss: 0.0222 - val_accuracy: 0.9931\n",
      "Epoch 6/15\n",
      "60000/60000 [==============================] - 568s 9ms/step - loss: 0.0516 - accuracy: 0.9860 - val_loss: 0.0228 - val_accuracy: 0.9927\n",
      "Epoch 7/15\n",
      "60000/60000 [==============================] - 566s 9ms/step - loss: 0.0492 - accuracy: 0.9868 - val_loss: 0.0215 - val_accuracy: 0.9933\n",
      "Epoch 8/15\n",
      "60000/60000 [==============================] - 566s 9ms/step - loss: 0.0441 - accuracy: 0.9880 - val_loss: 0.0206 - val_accuracy: 0.9932\n",
      "Epoch 9/15\n",
      "60000/60000 [==============================] - 569s 9ms/step - loss: 0.0422 - accuracy: 0.9885 - val_loss: 0.0195 - val_accuracy: 0.9942\n",
      "Epoch 10/15\n",
      "60000/60000 [==============================] - 574s 10ms/step - loss: 0.0391 - accuracy: 0.9886 - val_loss: 0.0183 - val_accuracy: 0.9942\n",
      "Epoch 11/15\n",
      "60000/60000 [==============================] - 574s 10ms/step - loss: 0.0356 - accuracy: 0.9902 - val_loss: 0.0202 - val_accuracy: 0.9937\n",
      "Epoch 12/15\n",
      "60000/60000 [==============================] - 566s 9ms/step - loss: 0.0330 - accuracy: 0.9909 - val_loss: 0.0222 - val_accuracy: 0.9938\n",
      "Epoch 13/15\n",
      "60000/60000 [==============================] - 564s 9ms/step - loss: 0.0357 - accuracy: 0.9895 - val_loss: 0.0195 - val_accuracy: 0.9940\n",
      "Epoch 14/15\n",
      "60000/60000 [==============================] - 567s 9ms/step - loss: 0.0326 - accuracy: 0.9905 - val_loss: 0.0228 - val_accuracy: 0.9939\n",
      "Epoch 15/15\n",
      "60000/60000 [==============================] - 566s 9ms/step - loss: 0.0326 - accuracy: 0.9908 - val_loss: 0.0220 - val_accuracy: 0.9930\n",
      "Test loss: 0.02198781901857328\n",
      "Test accuracy: 0.9929999709129333\n",
      "CPU times: user 4h 33min 20s, sys: 3min 5s, total: 4h 36min 25s\n",
      "Wall time: 2h 22min 26s\n"
     ]
    }
   ],
   "source": [
    "%%time\n",
    "model = Sequential()\n",
    "model.add(Conv2D(32, kernel_size=(7, 7),\n",
    "                 activation='relu', padding ='same',strides=1,\n",
    "                 input_shape=input_shape))\n",
    "model.add(Conv2D(64, (7, 7), activation='relu'))\n",
    "model.add(MaxPooling2D(pool_size=(2, 2)))\n",
    "model.add(Dropout(0.25))\n",
    "\n",
    "model.add(Conv2D(80, (7,7), activation= 'relu'))\n",
    "model.add(MaxPooling2D(pool_size=(3,3),padding = 'same',strides=2))\n",
    "model.add(Dropout(0.75))\n",
    "\n",
    "model.add(Flatten())\n",
    "model.add(Dense(128, activation='relu'))\n",
    "model.add(Dropout(0.5))\n",
    "model.add(Dense(num_classes, activation='softmax'))\n",
    "\n",
    "model.summary()\n",
    "model.compile(loss=keras.losses.categorical_crossentropy,\n",
    "              optimizer=keras.optimizers.Adam(),\n",
    "              metrics=['accuracy'])\n",
    "\n",
    "training = model.fit(x_train, y_train,\n",
    "          batch_size=batch_size,\n",
    "          epochs=epochs,\n",
    "          verbose=1,\n",
    "          validation_data=(x_test, y_test))\n",
    "score = model.evaluate(x_test, y_test, verbose=0)\n",
    "print('Test loss:', score[0])\n",
    "print('Test accuracy:', score[1])"
   ]
  },
  {
   "cell_type": "code",
   "execution_count": 0,
   "metadata": {
    "colab": {
     "base_uri": "https://localhost:8080/",
     "height": 279
    },
    "colab_type": "code",
    "id": "oF4nsrCR58hK",
    "outputId": "4082b848-ca91-4a61-cc22-5fdc98b90d3e"
   },
   "outputs": [
    {
     "data": {
      "image/png": "[encoded data removed]",
      "text/plain": [
       "<Figure size 432x288 with 1 Axes>"
      ]
     },
     "metadata": {
      "needs_background": "light",
      "tags": []
     },
     "output_type": "display_data"
    }
   ],
   "source": [
    "# plotting train and test error\n",
    "plot_loss(training, epochs)"
   ]
  },
  {
   "cell_type": "markdown",
   "metadata": {
    "colab_type": "text",
    "id": "rOmird_oG2_5"
   },
   "source": [
    "best epoch is 5. best accuracy 99.31%"
   ]
  },
  {
   "cell_type": "markdown",
   "metadata": {
    "colab_type": "text",
    "id": "YXO5R13yfHcU"
   },
   "source": [
    "## 3 conv layers, kernels = (7x7), max pooling =(2x2), strides=2,1"
   ]
  },
  {
   "cell_type": "code",
   "execution_count": 0,
   "metadata": {
    "colab": {
     "base_uri": "https://localhost:8080/",
     "height": 1000
    },
    "colab_type": "code",
    "id": "rcF_2ZwUQ94y",
    "outputId": "f2218a91-d6b3-4b5c-c90d-d479b35ef991"
   },
   "outputs": [
    {
     "name": "stdout",
     "output_type": "stream",
     "text": [
      "Model: \"sequential_2\"\n",
      "_________________________________________________________________\n",
      "Layer (type)                 Output Shape              Param #   \n",
      "=================================================================\n",
      "conv2d_4 (Conv2D)            (None, 22, 22, 32)        1600      \n",
      "_________________________________________________________________\n",
      "conv2d_5 (Conv2D)            (None, 16, 16, 64)        100416    \n",
      "_________________________________________________________________\n",
      "max_pooling2d_3 (MaxPooling2 (None, 8, 8, 64)          0         \n",
      "_________________________________________________________________\n",
      "batch_normalization_1 (Batch (None, 8, 8, 64)          256       \n",
      "_________________________________________________________________\n",
      "dropout_4 (Dropout)          (None, 8, 8, 64)          0         \n",
      "_________________________________________________________________\n",
      "conv2d_6 (Conv2D)            (None, 2, 2, 80)          250960    \n",
      "_________________________________________________________________\n",
      "max_pooling2d_4 (MaxPooling2 (None, 2, 2, 80)          0         \n",
      "_________________________________________________________________\n",
      "batch_normalization_2 (Batch (None, 2, 2, 80)          320       \n",
      "_________________________________________________________________\n",
      "dropout_5 (Dropout)          (None, 2, 2, 80)          0         \n",
      "_________________________________________________________________\n",
      "flatten_2 (Flatten)          (None, 320)               0         \n",
      "_________________________________________________________________\n",
      "dense_3 (Dense)              (None, 128)               41088     \n",
      "_________________________________________________________________\n",
      "dropout_6 (Dropout)          (None, 128)               0         \n",
      "_________________________________________________________________\n",
      "dense_4 (Dense)              (None, 10)                1290      \n",
      "=================================================================\n",
      "Total params: 395,930\n",
      "Trainable params: 395,642\n",
      "Non-trainable params: 288\n",
      "_________________________________________________________________\n",
      "Train on 60000 samples, validate on 10000 samples\n",
      "Epoch 1/15\n",
      "60000/60000 [==============================] - 323s 5ms/step - loss: 0.4930 - accuracy: 0.8647 - val_loss: 0.0750 - val_accuracy: 0.9799\n",
      "Epoch 2/15\n",
      "60000/60000 [==============================] - 318s 5ms/step - loss: 0.1116 - accuracy: 0.9691 - val_loss: 0.0356 - val_accuracy: 0.9884\n",
      "Epoch 3/15\n",
      "60000/60000 [==============================] - 320s 5ms/step - loss: 0.0749 - accuracy: 0.9794 - val_loss: 0.0318 - val_accuracy: 0.9908\n",
      "Epoch 4/15\n",
      "60000/60000 [==============================] - 316s 5ms/step - loss: 0.0630 - accuracy: 0.9823 - val_loss: 0.0301 - val_accuracy: 0.9914\n",
      "Epoch 5/15\n",
      "60000/60000 [==============================] - 315s 5ms/step - loss: 0.0585 - accuracy: 0.9840 - val_loss: 0.0242 - val_accuracy: 0.9926\n",
      "Epoch 6/15\n",
      "60000/60000 [==============================] - 316s 5ms/step - loss: 0.0482 - accuracy: 0.9866 - val_loss: 0.0243 - val_accuracy: 0.9931\n",
      "Epoch 7/15\n",
      "60000/60000 [==============================] - 317s 5ms/step - loss: 0.0407 - accuracy: 0.9885 - val_loss: 0.0225 - val_accuracy: 0.9934\n",
      "Epoch 8/15\n",
      "60000/60000 [==============================] - 317s 5ms/step - loss: 0.0387 - accuracy: 0.9891 - val_loss: 0.0298 - val_accuracy: 0.9920\n",
      "Epoch 9/15\n",
      "60000/60000 [==============================] - 318s 5ms/step - loss: 0.0364 - accuracy: 0.9897 - val_loss: 0.0191 - val_accuracy: 0.9939\n",
      "Epoch 10/15\n",
      "60000/60000 [==============================] - 318s 5ms/step - loss: 0.0340 - accuracy: 0.9905 - val_loss: 0.0239 - val_accuracy: 0.9931\n",
      "Epoch 11/15\n",
      "60000/60000 [==============================] - 318s 5ms/step - loss: 0.0300 - accuracy: 0.9914 - val_loss: 0.0390 - val_accuracy: 0.9888\n",
      "Epoch 12/15\n",
      "60000/60000 [==============================] - 323s 5ms/step - loss: 0.0297 - accuracy: 0.9918 - val_loss: 0.0316 - val_accuracy: 0.9919\n",
      "Epoch 13/15\n",
      "60000/60000 [==============================] - 317s 5ms/step - loss: 0.0295 - accuracy: 0.9919 - val_loss: 0.0229 - val_accuracy: 0.9920\n",
      "Epoch 14/15\n",
      "60000/60000 [==============================] - 320s 5ms/step - loss: 0.0274 - accuracy: 0.9924 - val_loss: 0.0245 - val_accuracy: 0.9915\n",
      "Epoch 15/15\n",
      "60000/60000 [==============================] - 312s 5ms/step - loss: 0.0246 - accuracy: 0.9930 - val_loss: 0.0230 - val_accuracy: 0.9934\n",
      "Test loss: 0.023033796002792678\n",
      "Test accuracy: 0.993399977684021\n",
      "CPU times: user 2h 26min 53s, sys: 2min 41s, total: 2h 29min 35s\n",
      "Wall time: 1h 19min 39s\n"
     ]
    }
   ],
   "source": [
    "%%time\n",
    "model = Sequential()\n",
    "model.add(Conv2D(32, kernel_size=(7, 7),\n",
    "                 activation='relu',\n",
    "                 input_shape=input_shape))\n",
    "model.add(Conv2D(64, (7, 7), activation='relu'))\n",
    "model.add(MaxPooling2D(pool_size=(2, 2),strides=2))\n",
    "model.add(BatchNormalization())\n",
    "model.add(Dropout(0.25))\n",
    "\n",
    "model.add(Conv2D(80, (7,7), activation= 'relu'))\n",
    "model.add(MaxPooling2D(pool_size=(3,3),padding = 'same',strides=1))\n",
    "model.add(BatchNormalization())\n",
    "model.add(Dropout(0.75))\n",
    "\n",
    "model.add(Flatten())\n",
    "model.add(Dense(128, activation='relu'))\n",
    "model.add(Dropout(0.5))\n",
    "model.add(Dense(num_classes, activation='softmax'))\n",
    "\n",
    "model.summary()\n",
    "model.compile(loss=keras.losses.categorical_crossentropy,\n",
    "              optimizer=keras.optimizers.Adam(),\n",
    "              metrics=['accuracy'])\n",
    "\n",
    "training = model.fit(x_train, y_train,\n",
    "          batch_size=batch_size,\n",
    "          epochs=epochs,\n",
    "          verbose=1,\n",
    "          validation_data=(x_test, y_test))\n",
    "score = model.evaluate(x_test, y_test, verbose=0)\n",
    "print('Test loss:', score[0])\n",
    "print('Test accuracy:', score[1])"
   ]
  },
  {
   "cell_type": "code",
   "execution_count": 0,
   "metadata": {
    "colab": {
     "base_uri": "https://localhost:8080/",
     "height": 279
    },
    "colab_type": "code",
    "id": "KYxMeqnd7n3N",
    "outputId": "435227ed-b1a3-4508-a3d9-064667e9461a"
   },
   "outputs": [
    {
     "data": {
      "image/png": "[encoded data removed]",
      "text/plain": [
       "<Figure size 432x288 with 1 Axes>"
      ]
     },
     "metadata": {
      "needs_background": "light",
      "tags": []
     },
     "output_type": "display_data"
    }
   ],
   "source": [
    "# plotting train and test error\n",
    "plot_loss(training, epochs)"
   ]
  },
  {
   "cell_type": "markdown",
   "metadata": {
    "colab_type": "text",
    "id": "d29y8lDQG-ev"
   },
   "source": [
    "best epoch is 7. Best accuracy 99.34%"
   ]
  },
  {
   "cell_type": "markdown",
   "metadata": {
    "colab_type": "text",
    "id": "OLYsqhaLfvJv"
   },
   "source": [
    "## 3 conv layers, kernels = (5x5), strides =1, max pooling = (2x2), padding = same"
   ]
  },
  {
   "cell_type": "code",
   "execution_count": 0,
   "metadata": {
    "colab": {
     "base_uri": "https://localhost:8080/",
     "height": 1000
    },
    "colab_type": "code",
    "id": "fu5W8KrCple0",
    "outputId": "999a1319-515c-4b9a-a6cb-9c18e727fbb8"
   },
   "outputs": [
    {
     "name": "stdout",
     "output_type": "stream",
     "text": [
      "Model: \"sequential_3\"\n",
      "_________________________________________________________________\n",
      "Layer (type)                 Output Shape              Param #   \n",
      "=================================================================\n",
      "conv2d_7 (Conv2D)            (None, 24, 24, 32)        832       \n",
      "_________________________________________________________________\n",
      "conv2d_8 (Conv2D)            (None, 20, 20, 64)        51264     \n",
      "_________________________________________________________________\n",
      "max_pooling2d_5 (MaxPooling2 (None, 10, 10, 64)        0         \n",
      "_________________________________________________________________\n",
      "batch_normalization_3 (Batch (None, 10, 10, 64)        256       \n",
      "_________________________________________________________________\n",
      "dropout_7 (Dropout)          (None, 10, 10, 64)        0         \n",
      "_________________________________________________________________\n",
      "conv2d_9 (Conv2D)            (None, 6, 6, 80)          128080    \n",
      "_________________________________________________________________\n",
      "max_pooling2d_6 (MaxPooling2 (None, 6, 6, 80)          0         \n",
      "_________________________________________________________________\n",
      "batch_normalization_4 (Batch (None, 6, 6, 80)          320       \n",
      "_________________________________________________________________\n",
      "dropout_8 (Dropout)          (None, 6, 6, 80)          0         \n",
      "_________________________________________________________________\n",
      "flatten_3 (Flatten)          (None, 2880)              0         \n",
      "_________________________________________________________________\n",
      "dense_5 (Dense)              (None, 128)               368768    \n",
      "_________________________________________________________________\n",
      "dropout_9 (Dropout)          (None, 128)               0         \n",
      "_________________________________________________________________\n",
      "dense_6 (Dense)              (None, 10)                1290      \n",
      "=================================================================\n",
      "Total params: 550,810\n",
      "Trainable params: 550,522\n",
      "Non-trainable params: 288\n",
      "_________________________________________________________________\n",
      "Train on 60000 samples, validate on 10000 samples\n",
      "Epoch 1/15\n",
      "60000/60000 [==============================] - 292s 5ms/step - loss: 0.3540 - accuracy: 0.9021 - val_loss: 0.2448 - val_accuracy: 0.9415\n",
      "Epoch 2/15\n",
      "60000/60000 [==============================] - 291s 5ms/step - loss: 0.1071 - accuracy: 0.9697 - val_loss: 0.0404 - val_accuracy: 0.9883\n",
      "Epoch 3/15\n",
      "60000/60000 [==============================] - 290s 5ms/step - loss: 0.0823 - accuracy: 0.9772 - val_loss: 0.0255 - val_accuracy: 0.9911\n",
      "Epoch 4/15\n",
      "60000/60000 [==============================] - 288s 5ms/step - loss: 0.0699 - accuracy: 0.9796 - val_loss: 0.0366 - val_accuracy: 0.9885\n",
      "Epoch 5/15\n",
      "60000/60000 [==============================] - 288s 5ms/step - loss: 0.0613 - accuracy: 0.9823 - val_loss: 0.0364 - val_accuracy: 0.9886\n",
      "Epoch 6/15\n",
      "60000/60000 [==============================] - 288s 5ms/step - loss: 0.0561 - accuracy: 0.9842 - val_loss: 0.0276 - val_accuracy: 0.9921\n",
      "Epoch 7/15\n",
      "60000/60000 [==============================] - 294s 5ms/step - loss: 0.0512 - accuracy: 0.9853 - val_loss: 0.0356 - val_accuracy: 0.9900\n",
      "Epoch 8/15\n",
      "60000/60000 [==============================] - 289s 5ms/step - loss: 0.0472 - accuracy: 0.9869 - val_loss: 0.0209 - val_accuracy: 0.9931\n",
      "Epoch 9/15\n",
      "60000/60000 [==============================] - 293s 5ms/step - loss: 0.0467 - accuracy: 0.9873 - val_loss: 0.0194 - val_accuracy: 0.9940\n",
      "Epoch 10/15\n",
      "60000/60000 [==============================] - 287s 5ms/step - loss: 0.0436 - accuracy: 0.9877 - val_loss: 0.0295 - val_accuracy: 0.9917\n",
      "Epoch 11/15\n",
      "60000/60000 [==============================] - 291s 5ms/step - loss: 0.0429 - accuracy: 0.9876 - val_loss: 0.0171 - val_accuracy: 0.9948\n",
      "Epoch 12/15\n",
      "60000/60000 [==============================] - 287s 5ms/step - loss: 0.0398 - accuracy: 0.9884 - val_loss: 0.0234 - val_accuracy: 0.9942\n",
      "Epoch 13/15\n",
      "60000/60000 [==============================] - 294s 5ms/step - loss: 0.0358 - accuracy: 0.9901 - val_loss: 0.0196 - val_accuracy: 0.9943\n",
      "Epoch 14/15\n",
      "60000/60000 [==============================] - 289s 5ms/step - loss: 0.0355 - accuracy: 0.9900 - val_loss: 0.0247 - val_accuracy: 0.9928\n",
      "Epoch 15/15\n",
      "60000/60000 [==============================] - 293s 5ms/step - loss: 0.0344 - accuracy: 0.9903 - val_loss: 0.0252 - val_accuracy: 0.9930\n",
      "Test loss: 0.02517386771799874\n",
      "Test accuracy: 0.9929999709129333\n",
      "CPU times: user 2h 16min 3s, sys: 2min 40s, total: 2h 18min 43s\n",
      "Wall time: 1h 12min 44s\n"
     ]
    }
   ],
   "source": [
    "%%time\n",
    "\n",
    "model = Sequential()\n",
    "model.add(Conv2D(32, kernel_size=(5, 5),\n",
    "                 activation='relu', strides =1,\n",
    "                 input_shape=input_shape))\n",
    "model.add(Conv2D(64, (5, 5),strides=1, activation='relu'))\n",
    "model.add(MaxPooling2D(pool_size=(2, 2)))\n",
    "model.add(BatchNormalization())\n",
    "model.add(Dropout(0.25))\n",
    "\n",
    "model.add(Conv2D(80, (5,5), activation= 'relu'))\n",
    "model.add(MaxPooling2D(pool_size=(3,3),padding = 'same',strides=1))\n",
    "model.add(BatchNormalization())\n",
    "model.add(Dropout(0.75))\n",
    "\n",
    "model.add(Flatten())\n",
    "model.add(Dense(128, activation='relu'))\n",
    "model.add(Dropout(0.5))\n",
    "model.add(Dense(num_classes, activation='softmax'))\n",
    "\n",
    "model.summary()\n",
    "model.compile(loss=keras.losses.categorical_crossentropy,\n",
    "              optimizer=keras.optimizers.Adam(),\n",
    "              metrics=['accuracy'])\n",
    "\n",
    "training = model.fit(x_train, y_train,\n",
    "          batch_size=batch_size,\n",
    "          epochs=epochs,\n",
    "          verbose=1,\n",
    "          validation_data=(x_test, y_test))\n",
    "score = model.evaluate(x_test, y_test, verbose=0)\n",
    "print('Test loss:', score[0])\n",
    "print('Test accuracy:', score[1])"
   ]
  },
  {
   "cell_type": "code",
   "execution_count": 0,
   "metadata": {
    "colab": {
     "base_uri": "https://localhost:8080/",
     "height": 279
    },
    "colab_type": "code",
    "id": "aFGKcW3Q6KAs",
    "outputId": "9f348720-a28f-4e6f-8107-1af28616e2b1"
   },
   "outputs": [
    {
     "data": {
      "image/png": "[encoded data removed]",
      "text/plain": [
       "<Figure size 432x288 with 1 Axes>"
      ]
     },
     "metadata": {
      "needs_background": "light",
      "tags": []
     },
     "output_type": "display_data"
    }
   ],
   "source": [
    "# plotting train and test error\n",
    "plot_loss(training, epochs)"
   ]
  },
  {
   "cell_type": "markdown",
   "metadata": {
    "colab_type": "text",
    "id": "-HekSjM2HF3Z"
   },
   "source": [
    "best epoch is 9. best accuracy 99.40%"
   ]
  },
  {
   "cell_type": "markdown",
   "metadata": {
    "colab_type": "text",
    "id": "bmbZl7ASgIix"
   },
   "source": [
    "## 3 conv layers, kernels=(3x3), max pooling =(2x2), padding =same, strides = 1"
   ]
  },
  {
   "cell_type": "code",
   "execution_count": 0,
   "metadata": {
    "colab": {
     "base_uri": "https://localhost:8080/",
     "height": 1000
    },
    "colab_type": "code",
    "id": "MPC2ThVazEgf",
    "outputId": "c9efc7d2-4bec-4f85-ce32-48f5d9731970"
   },
   "outputs": [
    {
     "name": "stdout",
     "output_type": "stream",
     "text": [
      "Model: \"sequential_4\"\n",
      "_________________________________________________________________\n",
      "Layer (type)                 Output Shape              Param #   \n",
      "=================================================================\n",
      "conv2d_10 (Conv2D)           (None, 26, 26, 32)        320       \n",
      "_________________________________________________________________\n",
      "conv2d_11 (Conv2D)           (None, 24, 24, 64)        18496     \n",
      "_________________________________________________________________\n",
      "max_pooling2d_7 (MaxPooling2 (None, 12, 12, 64)        0         \n",
      "_________________________________________________________________\n",
      "batch_normalization_5 (Batch (None, 12, 12, 64)        256       \n",
      "_________________________________________________________________\n",
      "dropout_10 (Dropout)         (None, 12, 12, 64)        0         \n",
      "_________________________________________________________________\n",
      "conv2d_12 (Conv2D)           (None, 10, 10, 80)        46160     \n",
      "_________________________________________________________________\n",
      "max_pooling2d_8 (MaxPooling2 (None, 10, 10, 80)        0         \n",
      "_________________________________________________________________\n",
      "batch_normalization_6 (Batch (None, 10, 10, 80)        320       \n",
      "_________________________________________________________________\n",
      "dropout_11 (Dropout)         (None, 10, 10, 80)        0         \n",
      "_________________________________________________________________\n",
      "flatten_4 (Flatten)          (None, 8000)              0         \n",
      "_________________________________________________________________\n",
      "dense_7 (Dense)              (None, 128)               1024128   \n",
      "_________________________________________________________________\n",
      "dropout_12 (Dropout)         (None, 128)               0         \n",
      "_________________________________________________________________\n",
      "dense_8 (Dense)              (None, 10)                1290      \n",
      "=================================================================\n",
      "Total params: 1,090,970\n",
      "Trainable params: 1,090,682\n",
      "Non-trainable params: 288\n",
      "_________________________________________________________________\n",
      "Train on 60000 samples, validate on 10000 samples\n",
      "Epoch 1/15\n",
      "60000/60000 [==============================] - 209s 3ms/step - loss: 0.3466 - accuracy: 0.9030 - val_loss: 0.1810 - val_accuracy: 0.9499\n",
      "Epoch 2/15\n",
      "60000/60000 [==============================] - 209s 3ms/step - loss: 0.1333 - accuracy: 0.9634 - val_loss: 0.0575 - val_accuracy: 0.9825\n",
      "Epoch 3/15\n",
      "60000/60000 [==============================] - 210s 3ms/step - loss: 0.1070 - accuracy: 0.9704 - val_loss: 0.0333 - val_accuracy: 0.9899\n",
      "Epoch 4/15\n",
      "60000/60000 [==============================] - 211s 4ms/step - loss: 0.0898 - accuracy: 0.9760 - val_loss: 0.0327 - val_accuracy: 0.9907\n",
      "Epoch 5/15\n",
      "60000/60000 [==============================] - 211s 4ms/step - loss: 0.0761 - accuracy: 0.9781 - val_loss: 0.0310 - val_accuracy: 0.9913\n",
      "Epoch 6/15\n",
      "60000/60000 [==============================] - 215s 4ms/step - loss: 0.0718 - accuracy: 0.9803 - val_loss: 0.0253 - val_accuracy: 0.9932\n",
      "Epoch 7/15\n",
      "60000/60000 [==============================] - 209s 3ms/step - loss: 0.0654 - accuracy: 0.9818 - val_loss: 0.0380 - val_accuracy: 0.9897\n",
      "Epoch 8/15\n",
      "60000/60000 [==============================] - 209s 3ms/step - loss: 0.0631 - accuracy: 0.9822 - val_loss: 0.0234 - val_accuracy: 0.9937\n",
      "Epoch 9/15\n",
      "60000/60000 [==============================] - 214s 4ms/step - loss: 0.0556 - accuracy: 0.9833 - val_loss: 0.0250 - val_accuracy: 0.9928\n",
      "Epoch 10/15\n",
      "60000/60000 [==============================] - 208s 3ms/step - loss: 0.0547 - accuracy: 0.9844 - val_loss: 0.0300 - val_accuracy: 0.9927\n",
      "Epoch 11/15\n",
      "60000/60000 [==============================] - 209s 3ms/step - loss: 0.0521 - accuracy: 0.9851 - val_loss: 0.0283 - val_accuracy: 0.9928\n",
      "Epoch 12/15\n",
      "60000/60000 [==============================] - 210s 3ms/step - loss: 0.0518 - accuracy: 0.9856 - val_loss: 0.0289 - val_accuracy: 0.9920\n",
      "Epoch 13/15\n",
      "60000/60000 [==============================] - 209s 3ms/step - loss: 0.0487 - accuracy: 0.9862 - val_loss: 0.0211 - val_accuracy: 0.9932\n",
      "Epoch 14/15\n",
      "60000/60000 [==============================] - 210s 3ms/step - loss: 0.0496 - accuracy: 0.9866 - val_loss: 0.0218 - val_accuracy: 0.9930\n",
      "Epoch 15/15\n",
      "60000/60000 [==============================] - 212s 4ms/step - loss: 0.0443 - accuracy: 0.9871 - val_loss: 0.0225 - val_accuracy: 0.9939\n",
      "Test loss: 0.022474063225078576\n",
      "Test accuracy: 0.9939000010490417\n",
      "CPU times: user 1h 39min 13s, sys: 2min 8s, total: 1h 41min 21s\n",
      "Wall time: 52min 45s\n"
     ]
    }
   ],
   "source": [
    "%%time\n",
    "\n",
    "model = Sequential()\n",
    "model.add(Conv2D(32, kernel_size=(3, 3),\n",
    "                 activation='relu',\n",
    "                 input_shape=input_shape))\n",
    "model.add(Conv2D(64, (3, 3),strides=1, activation='relu'))\n",
    "model.add(MaxPooling2D(pool_size=(2, 2)))\n",
    "model.add(BatchNormalization())\n",
    "model.add(Dropout(0.25))\n",
    "\n",
    "model.add(Conv2D(80, (3,3), activation= 'relu'))\n",
    "model.add(MaxPooling2D(pool_size=(3,3),padding = 'same',strides=1))\n",
    "model.add(BatchNormalization())\n",
    "model.add(Dropout(0.75))\n",
    "\n",
    "model.add(Flatten())\n",
    "model.add(Dense(128, activation='relu'))\n",
    "model.add(Dropout(0.5))\n",
    "model.add(Dense(num_classes, activation='softmax'))\n",
    "\n",
    "model.summary()\n",
    "model.compile(loss=keras.losses.categorical_crossentropy,\n",
    "              optimizer=keras.optimizers.Adam(),\n",
    "              metrics=['accuracy'])\n",
    "\n",
    "training = model.fit(x_train, y_train,\n",
    "          batch_size=batch_size,\n",
    "          epochs=epochs,\n",
    "          verbose=1,\n",
    "          validation_data=(x_test, y_test))\n",
    "score = model.evaluate(x_test, y_test, verbose=0)\n",
    "print('Test loss:', score[0])\n",
    "print('Test accuracy:', score[1])"
   ]
  },
  {
   "cell_type": "code",
   "execution_count": 0,
   "metadata": {
    "colab": {
     "base_uri": "https://localhost:8080/",
     "height": 279
    },
    "colab_type": "code",
    "id": "3Yf2PmnG6OIp",
    "outputId": "ca5cdaf3-1a1d-413b-91db-5707bc6ad52e"
   },
   "outputs": [
    {
     "data": {
      "image/png": "[encoded data removed]",
      "text/plain": [
       "<Figure size 432x288 with 1 Axes>"
      ]
     },
     "metadata": {
      "needs_background": "light",
      "tags": []
     },
     "output_type": "display_data"
    }
   ],
   "source": [
    "# plotting train and test error\n",
    "plot_loss(training, epochs)"
   ]
  },
  {
   "cell_type": "markdown",
   "metadata": {
    "colab_type": "text",
    "id": "MXWsBqsaGlXw"
   },
   "source": [
    "best epoch is 8. best accuracy 99.37%"
   ]
  },
  {
   "cell_type": "markdown",
   "metadata": {},
   "source": [
    "## Summary"
   ]
  },
  {
   "cell_type": "code",
   "execution_count": 1,
   "metadata": {
    "colab": {
     "base_uri": "https://localhost:8080/",
     "height": 143
    },
    "colab_type": "code",
    "id": "iRNvS6R0Exuf",
    "outputId": "3f1041a4-7e44-46e6-fa09-81ec1bc26a81"
   },
   "outputs": [
    {
     "name": "stdout",
     "output_type": "stream",
     "text": [
      "+--------+-------------------+---------------+-------+\n",
      "| Layers |      Kernels      | Test Accuracy | epoch |\n",
      "+--------+-------------------+---------------+-------+\n",
      "|   2    |    (3x3),(3x3)    |     99.21     |   10  |\n",
      "|   2    |    (5x5),(5x5)    |     99.37     |   11  |\n",
      "|   3    | (7x7),(5x5),(3x3) |     99.55     |   13  |\n",
      "+--------+-------------------+---------------+-------+\n"
     ]
    }
   ],
   "source": [
    "from prettytable import PrettyTable\n",
    "pt = PrettyTable()\n",
    "pt.field_names = [\"Layers\",\"Kernels\", \"Test Accuracy\",\"epoch\"]\n",
    "pt.add_row([\"2\",\"(3x3),(3x3)\",\"99.21\",\"10\"])\n",
    "pt.add_row([\"2\",\"(5x5),(5x5)\",\"99.37\",\"11\"])\n",
    "pt.add_row([\"3\",\"(7x7),(5x5),(3x3)\",\"99.55\",\"13\"])\n",
    "print(pt)"
   ]
  },
  {
   "cell_type": "code",
   "execution_count": 2,
   "metadata": {
    "colab": {
     "base_uri": "https://localhost:8080/",
     "height": 125
    },
    "colab_type": "code",
    "id": "Dwk9EgmbjLbs",
    "outputId": "1c14859b-119d-4ba7-8764-815efef1a702"
   },
   "outputs": [
    {
     "name": "stdout",
     "output_type": "stream",
     "text": [
      "+--------+-------------------+---------------+-------+---------+\n",
      "| Layers |      Kernels      | Test Accuracy | epoch | padding |\n",
      "+--------+-------------------+---------------+-------+---------+\n",
      "|   2    |    (3x3),(3x3)    |     99.17     |   10  |   same  |\n",
      "|   3    | (7x7),(5x5),(3x3) |     99.43     |   7   |   same  |\n",
      "+--------+-------------------+---------------+-------+---------+\n"
     ]
    }
   ],
   "source": [
    "pt = PrettyTable()\n",
    "pt.field_names = [\"Layers\",\"Kernels\", \"Test Accuracy\",\"epoch\", \"padding\"]\n",
    "pt.add_row([\"2\",\"(3x3),(3x3)\",\"99.17\",\"10\",\"same\"])\n",
    "pt.add_row([\"3\",\"(7x7),(5x5),(3x3)\",\"99.43\",\"7\",\"same\"])\n",
    "print(pt)"
   ]
  },
  {
   "cell_type": "code",
   "execution_count": 3,
   "metadata": {
    "colab": {
     "base_uri": "https://localhost:8080/",
     "height": 161
    },
    "colab_type": "code",
    "id": "V7ILtm_HxhDq",
    "outputId": "1f1a3341-160b-4414-e221-b66f85b92777"
   },
   "outputs": [
    {
     "name": "stdout",
     "output_type": "stream",
     "text": [
      "+--------+-------------------+---------------+-------+---------+---------+\n",
      "| Layers |      Kernels      | Test Accuracy | epoch | padding | strides |\n",
      "+--------+-------------------+---------------+-------+---------+---------+\n",
      "|   3    | (3x3),(3x3),(3x3) |     99.42     |   9   |   same  |    1    |\n",
      "|   3    | (5x5),(5x5),(5x5) |     99.34     |   5   |   same  |    1    |\n",
      "|   3    | (7x7),(7x7),(7x7) |     99.40     |   9   |   same  |    2    |\n",
      "|   3    | (7x7),(7x7),(7x7) |     99.37     |   8   |   same  |   1,2   |\n",
      "+--------+-------------------+---------------+-------+---------+---------+\n"
     ]
    }
   ],
   "source": [
    "pt = PrettyTable()\n",
    "pt.field_names = [\"Layers\",\"Kernels\", \"Test Accuracy\", \"epoch\", \"padding\",\"strides\"]\n",
    "pt.add_row([\"3\",\"(3x3),(3x3),(3x3)\",\"99.42\",\"9\",\"same\",\"1\"])\n",
    "pt.add_row([\"3\",\"(5x5),(5x5),(5x5)\",\"99.34\",\"5\",\"same\",\"1\"])\n",
    "pt.add_row([\"3\",\"(7x7),(7x7),(7x7)\",\"99.40\",\"9\",\"same\",\"2\"])\n",
    "pt.add_row([\"3\",\"(7x7),(7x7),(7x7)\",\"99.37\",\"8\",\"same\",\"1,2\"])\n",
    "print(pt)"
   ]
  },
  {
   "cell_type": "markdown",
   "metadata": {
    "colab_type": "text",
    "id": "hSdUS4CtdbGU"
   },
   "source": [
    "# 3 conv layers, kernels = (7x7),(5x5),(3x3), Using sigmoid"
   ]
  },
  {
   "cell_type": "code",
   "execution_count": 0,
   "metadata": {
    "colab": {
     "base_uri": "https://localhost:8080/",
     "height": 1000
    },
    "colab_type": "code",
    "id": "hyyq8OAWPjS0",
    "outputId": "8b0e44a0-7d21-46c0-f18e-2cb259c4b081"
   },
   "outputs": [
    {
     "name": "stdout",
     "output_type": "stream",
     "text": [
      "Model: \"sequential_3\"\n",
      "_________________________________________________________________\n",
      "Layer (type)                 Output Shape              Param #   \n",
      "=================================================================\n",
      "conv2d_7 (Conv2D)            (None, 22, 22, 32)        1600      \n",
      "_________________________________________________________________\n",
      "conv2d_8 (Conv2D)            (None, 18, 18, 64)        51264     \n",
      "_________________________________________________________________\n",
      "max_pooling2d_5 (MaxPooling2 (None, 9, 9, 64)          0         \n",
      "_________________________________________________________________\n",
      "dropout_7 (Dropout)          (None, 9, 9, 64)          0         \n",
      "_________________________________________________________________\n",
      "conv2d_9 (Conv2D)            (None, 7, 7, 128)         73856     \n",
      "_________________________________________________________________\n",
      "max_pooling2d_6 (MaxPooling2 (None, 3, 3, 128)         0         \n",
      "_________________________________________________________________\n",
      "dropout_8 (Dropout)          (None, 3, 3, 128)         0         \n",
      "_________________________________________________________________\n",
      "flatten_3 (Flatten)          (None, 1152)              0         \n",
      "_________________________________________________________________\n",
      "dense_5 (Dense)              (None, 512)               590336    \n",
      "_________________________________________________________________\n",
      "dropout_9 (Dropout)          (None, 512)               0         \n",
      "_________________________________________________________________\n",
      "dense_6 (Dense)              (None, 10)                5130      \n",
      "=================================================================\n",
      "Total params: 722,186\n",
      "Trainable params: 722,186\n",
      "Non-trainable params: 0\n",
      "_________________________________________________________________\n",
      "Train on 60000 samples, validate on 10000 samples\n",
      "Epoch 1/15\n",
      "60000/60000 [==============================] - 226s 4ms/step - loss: 2.0295 - accuracy: 0.2398 - val_loss: 0.4800 - val_accuracy: 0.8586\n",
      "Epoch 2/15\n",
      "60000/60000 [==============================] - 226s 4ms/step - loss: 0.3056 - accuracy: 0.9069 - val_loss: 0.1415 - val_accuracy: 0.9534\n",
      "Epoch 3/15\n",
      "60000/60000 [==============================] - 227s 4ms/step - loss: 0.1639 - accuracy: 0.9489 - val_loss: 0.0888 - val_accuracy: 0.9737\n",
      "Epoch 4/15\n",
      "60000/60000 [==============================] - 227s 4ms/step - loss: 0.1228 - accuracy: 0.9620 - val_loss: 0.0801 - val_accuracy: 0.9747\n",
      "Epoch 5/15\n",
      "60000/60000 [==============================] - 226s 4ms/step - loss: 0.1018 - accuracy: 0.9679 - val_loss: 0.0593 - val_accuracy: 0.9810\n",
      "Epoch 6/15\n",
      "60000/60000 [==============================] - 223s 4ms/step - loss: 0.0863 - accuracy: 0.9727 - val_loss: 0.0484 - val_accuracy: 0.9826\n",
      "Epoch 7/15\n",
      "60000/60000 [==============================] - 223s 4ms/step - loss: 0.0743 - accuracy: 0.9766 - val_loss: 0.0439 - val_accuracy: 0.9850\n",
      "Epoch 8/15\n",
      "60000/60000 [==============================] - 224s 4ms/step - loss: 0.0668 - accuracy: 0.9791 - val_loss: 0.0404 - val_accuracy: 0.9865\n",
      "Epoch 9/15\n",
      "60000/60000 [==============================] - 224s 4ms/step - loss: 0.0615 - accuracy: 0.9810 - val_loss: 0.0391 - val_accuracy: 0.9871\n",
      "Epoch 10/15\n",
      "60000/60000 [==============================] - 224s 4ms/step - loss: 0.0583 - accuracy: 0.9818 - val_loss: 0.0358 - val_accuracy: 0.9880\n",
      "Epoch 11/15\n",
      "60000/60000 [==============================] - 224s 4ms/step - loss: 0.0527 - accuracy: 0.9834 - val_loss: 0.0355 - val_accuracy: 0.9880\n",
      "Epoch 12/15\n",
      "60000/60000 [==============================] - 224s 4ms/step - loss: 0.0505 - accuracy: 0.9837 - val_loss: 0.0324 - val_accuracy: 0.9884\n",
      "Epoch 13/15\n",
      "60000/60000 [==============================] - 223s 4ms/step - loss: 0.0479 - accuracy: 0.9847 - val_loss: 0.0299 - val_accuracy: 0.9903\n",
      "Epoch 14/15\n",
      "60000/60000 [==============================] - 223s 4ms/step - loss: 0.0453 - accuracy: 0.9850 - val_loss: 0.0287 - val_accuracy: 0.9901\n",
      "Epoch 15/15\n",
      "60000/60000 [==============================] - 223s 4ms/step - loss: 0.0419 - accuracy: 0.9872 - val_loss: 0.0285 - val_accuracy: 0.9902\n",
      "Test loss: 0.028495841736346485\n",
      "Test accuracy: 0.9901999831199646\n",
      "CPU times: user 1h 46min 58s, sys: 1min 31s, total: 1h 48min 29s\n",
      "Wall time: 56min 17s\n"
     ]
    }
   ],
   "source": [
    "%%time\n",
    "\n",
    "model = Sequential()\n",
    "model.add(Conv2D(32, kernel_size=(7, 7),\n",
    "                 activation='relu',\n",
    "                 input_shape=input_shape))\n",
    "model.add(Conv2D(64, (5, 5), activation='sigmoid'))\n",
    "model.add(MaxPooling2D(pool_size=(2, 2)))\n",
    "model.add(Dropout(0.25))\n",
    "\n",
    "model.add(Conv2D(128, (3,3), activation='sigmoid'))\n",
    "model.add(MaxPooling2D(pool_size = (2,2)))\n",
    "model.add(Dropout(0.3))\n",
    "\n",
    "model.add(Flatten())\n",
    "model.add(Dense(512, activation='sigmoid'))\n",
    "model.add(Dropout(0.5))\n",
    "model.add(Dense(num_classes, activation='softmax'))\n",
    "\n",
    "model.summary()\n",
    "model.compile(loss=keras.losses.categorical_crossentropy,\n",
    "              optimizer=keras.optimizers.Adadelta(),\n",
    "              metrics=['accuracy'])\n",
    "\n",
    "training = model.fit(x_train, y_train,\n",
    "          batch_size=batch_size,\n",
    "          epochs=epochs,\n",
    "          verbose=1,\n",
    "          validation_data=(x_test, y_test))\n",
    "\n",
    "score = model.evaluate(x_test, y_test, verbose=0)\n",
    "print('Test loss:', score[0])\n",
    "print('Test accuracy:', score[1])"
   ]
  },
  {
   "cell_type": "code",
   "execution_count": 0,
   "metadata": {
    "colab": {
     "base_uri": "https://localhost:8080/",
     "height": 279
    },
    "colab_type": "code",
    "id": "jOGbgWvo6OPL",
    "outputId": "513f6b06-9a4a-44cf-b007-b044aafb0570"
   },
   "outputs": [
    {
     "data": {
      "image/png": "[encoded data removed]",
      "text/plain": [
       "<Figure size 432x288 with 1 Axes>"
      ]
     },
     "metadata": {
      "needs_background": "light",
      "tags": []
     },
     "output_type": "display_data"
    }
   ],
   "source": [
    "# plotting train and test error\n",
    "plot_loss(training, epochs)"
   ]
  },
  {
   "cell_type": "markdown",
   "metadata": {
    "colab_type": "text",
    "id": "X0LwvW7wG1TA"
   },
   "source": [
    "best epoch is 15. best accuracy is 99.02%"
   ]
  },
  {
   "cell_type": "markdown",
   "metadata": {},
   "source": [
    "## 3 conv layers, kernels = (7x7),(5x5),(3x3), Using tanh"
   ]
  },
  {
   "cell_type": "code",
   "execution_count": 0,
   "metadata": {
    "colab": {
     "base_uri": "https://localhost:8080/",
     "height": 1000
    },
    "colab_type": "code",
    "id": "-5ymytiPtPpi",
    "outputId": "3b18f109-f1a6-4c81-aaba-3469697fa84f"
   },
   "outputs": [
    {
     "name": "stdout",
     "output_type": "stream",
     "text": [
      "Model: \"sequential_4\"\n",
      "_________________________________________________________________\n",
      "Layer (type)                 Output Shape              Param #   \n",
      "=================================================================\n",
      "conv2d_10 (Conv2D)           (None, 22, 22, 32)        1600      \n",
      "_________________________________________________________________\n",
      "conv2d_11 (Conv2D)           (None, 18, 18, 64)        51264     \n",
      "_________________________________________________________________\n",
      "max_pooling2d_7 (MaxPooling2 (None, 9, 9, 64)          0         \n",
      "_________________________________________________________________\n",
      "dropout_10 (Dropout)         (None, 9, 9, 64)          0         \n",
      "_________________________________________________________________\n",
      "conv2d_12 (Conv2D)           (None, 7, 7, 128)         73856     \n",
      "_________________________________________________________________\n",
      "max_pooling2d_8 (MaxPooling2 (None, 3, 3, 128)         0         \n",
      "_________________________________________________________________\n",
      "dropout_11 (Dropout)         (None, 3, 3, 128)         0         \n",
      "_________________________________________________________________\n",
      "flatten_4 (Flatten)          (None, 1152)              0         \n",
      "_________________________________________________________________\n",
      "dense_7 (Dense)              (None, 512)               590336    \n",
      "_________________________________________________________________\n",
      "dropout_12 (Dropout)         (None, 512)               0         \n",
      "_________________________________________________________________\n",
      "dense_8 (Dense)              (None, 10)                5130      \n",
      "=================================================================\n",
      "Total params: 722,186\n",
      "Trainable params: 722,186\n",
      "Non-trainable params: 0\n",
      "_________________________________________________________________\n",
      "Train on 60000 samples, validate on 10000 samples\n",
      "Epoch 1/15\n",
      "60000/60000 [==============================] - 225s 4ms/step - loss: 0.2153 - accuracy: 0.9316 - val_loss: 0.0658 - val_accuracy: 0.9805\n",
      "Epoch 2/15\n",
      "60000/60000 [==============================] - 225s 4ms/step - loss: 0.0755 - accuracy: 0.9766 - val_loss: 0.0332 - val_accuracy: 0.9889\n",
      "Epoch 3/15\n",
      "60000/60000 [==============================] - 225s 4ms/step - loss: 0.0605 - accuracy: 0.9811 - val_loss: 0.0320 - val_accuracy: 0.9889\n",
      "Epoch 4/15\n",
      "60000/60000 [==============================] - 225s 4ms/step - loss: 0.0466 - accuracy: 0.9855 - val_loss: 0.0343 - val_accuracy: 0.9895\n",
      "Epoch 5/15\n",
      "60000/60000 [==============================] - 225s 4ms/step - loss: 0.0448 - accuracy: 0.9862 - val_loss: 0.0246 - val_accuracy: 0.9930\n",
      "Epoch 6/15\n",
      "60000/60000 [==============================] - 225s 4ms/step - loss: 0.0382 - accuracy: 0.9878 - val_loss: 0.0295 - val_accuracy: 0.9909\n",
      "Epoch 7/15\n",
      "60000/60000 [==============================] - 226s 4ms/step - loss: 0.0334 - accuracy: 0.9896 - val_loss: 0.0249 - val_accuracy: 0.9922\n",
      "Epoch 8/15\n",
      "60000/60000 [==============================] - 226s 4ms/step - loss: 0.0302 - accuracy: 0.9901 - val_loss: 0.0206 - val_accuracy: 0.9932\n",
      "Epoch 9/15\n",
      "60000/60000 [==============================] - 227s 4ms/step - loss: 0.0276 - accuracy: 0.9911 - val_loss: 0.0213 - val_accuracy: 0.9937\n",
      "Epoch 10/15\n",
      "60000/60000 [==============================] - 226s 4ms/step - loss: 0.0242 - accuracy: 0.9924 - val_loss: 0.0188 - val_accuracy: 0.9945\n",
      "Epoch 11/15\n",
      "60000/60000 [==============================] - 224s 4ms/step - loss: 0.0241 - accuracy: 0.9921 - val_loss: 0.0221 - val_accuracy: 0.9932\n",
      "Epoch 12/15\n",
      "60000/60000 [==============================] - 224s 4ms/step - loss: 0.0208 - accuracy: 0.9930 - val_loss: 0.0211 - val_accuracy: 0.9935\n",
      "Epoch 13/15\n",
      "60000/60000 [==============================] - 223s 4ms/step - loss: 0.0207 - accuracy: 0.9934 - val_loss: 0.0190 - val_accuracy: 0.9936\n",
      "Epoch 14/15\n",
      "60000/60000 [==============================] - 224s 4ms/step - loss: 0.0172 - accuracy: 0.9941 - val_loss: 0.0188 - val_accuracy: 0.9947\n",
      "Epoch 15/15\n",
      "60000/60000 [==============================] - 224s 4ms/step - loss: 0.0170 - accuracy: 0.9944 - val_loss: 0.0228 - val_accuracy: 0.9925\n",
      "Test loss: 0.02281436841523082\n",
      "Test accuracy: 0.9925000071525574\n",
      "CPU times: user 1h 46min 56s, sys: 1min 34s, total: 1h 48min 30s\n",
      "Wall time: 56min 25s\n"
     ]
    }
   ],
   "source": [
    "%%time\n",
    "\n",
    "model = Sequential()\n",
    "model.add(Conv2D(32, kernel_size=(7, 7),\n",
    "                 activation='relu',\n",
    "                 input_shape=input_shape))\n",
    "model.add(Conv2D(64, (5, 5), activation='tanh'))\n",
    "model.add(MaxPooling2D(pool_size=(2, 2)))\n",
    "model.add(Dropout(0.25))\n",
    "\n",
    "model.add(Conv2D(128, (3,3), activation='tanh'))\n",
    "model.add(MaxPooling2D(pool_size = (2,2)))\n",
    "model.add(Dropout(0.3))\n",
    "\n",
    "model.add(Flatten())\n",
    "model.add(Dense(512, activation='tanh'))\n",
    "model.add(Dropout(0.5))\n",
    "model.add(Dense(num_classes, activation='softmax'))\n",
    "\n",
    "model.summary()\n",
    "model.compile(loss=keras.losses.categorical_crossentropy,\n",
    "              optimizer=keras.optimizers.Adadelta(),\n",
    "              metrics=['accuracy'])\n",
    "\n",
    "training = model.fit(x_train, y_train,\n",
    "          batch_size=batch_size,\n",
    "          epochs=epochs,\n",
    "          verbose=1,\n",
    "          validation_data=(x_test, y_test))\n",
    "\n",
    "score = model.evaluate(x_test, y_test, verbose=0)\n",
    "print('Test loss:', score[0])\n",
    "print('Test accuracy:', score[1])"
   ]
  },
  {
   "cell_type": "code",
   "execution_count": 0,
   "metadata": {
    "colab": {
     "base_uri": "https://localhost:8080/",
     "height": 283
    },
    "colab_type": "code",
    "id": "rdPCKsGA6ZIo",
    "outputId": "b866f775-3064-426b-de86-ef98034d3536"
   },
   "outputs": [
    {
     "data": {
      "image/png": "[encoded data removed]",
      "text/plain": [
       "<Figure size 432x288 with 1 Axes>"
      ]
     },
     "metadata": {
      "needs_background": "light",
      "tags": []
     },
     "output_type": "display_data"
    }
   ],
   "source": [
    "# plotting train and test error\n",
    "plot_loss(training, epochs)"
   ]
  },
  {
   "cell_type": "markdown",
   "metadata": {
    "colab_type": "text",
    "id": "aqQ_XKTlG6u4"
   },
   "source": [
    "best epoch is 5. best accuracy is 99.30%"
   ]
  },
  {
   "cell_type": "code",
   "execution_count": 4,
   "metadata": {
    "colab": {
     "base_uri": "https://localhost:8080/",
     "height": 125
    },
    "colab_type": "code",
    "id": "3KQDOag06iyz",
    "outputId": "0929ab79-76d8-41de-bfb4-763ea20fa3d9"
   },
   "outputs": [
    {
     "name": "stdout",
     "output_type": "stream",
     "text": [
      "+--------+-------------------+---------------+-------+------------+\n",
      "| Layers |      Kernels      | Test Accuracy | epoch | activation |\n",
      "+--------+-------------------+---------------+-------+------------+\n",
      "|   2    | (7x7),(5x5),(3x3) |     99.02     |   15  |  sigmoid   |\n",
      "|   3    | (7x7),(5x5),(3x3) |     99.30     |   5   |    tanh    |\n",
      "+--------+-------------------+---------------+-------+------------+\n"
     ]
    }
   ],
   "source": [
    "pt = PrettyTable()\n",
    "pt.field_names = [\"Layers\",\"Kernels\", \"Test Accuracy\", \"epoch\",\"activation\"]\n",
    "pt.add_row([\"2\",\"(7x7),(5x5),(3x3)\",\"99.02\",\"15\",\"sigmoid\"])\n",
    "pt.add_row([\"3\",\"(7x7),(5x5),(3x3)\",\"99.30\",\"5\",\"tanh\"])\n",
    "print(pt)"
   ]
  },
  {
   "cell_type": "markdown",
   "metadata": {
    "colab_type": "text",
    "id": "SrNH1T9vL7xS"
   },
   "source": [
    "### As number of convolution layers increase test accuracy also increased."
   ]
  }
 ],
 "metadata": {
  "colab": {
   "collapsed_sections": [],
   "name": " CNN on MNIST.ipynb",
   "provenance": []
  },
  "kernelspec": {
   "display_name": "Python 3",
   "language": "python",
   "name": "python3"
  },
  "language_info": {
   "codemirror_mode": {
    "name": "ipython",
    "version": 3
   },
   "file_extension": ".py",
   "mimetype": "text/x-python",
   "name": "python",
   "nbconvert_exporter": "python",
   "pygments_lexer": "ipython3",
   "version": "3.6.5"
  }
 },
 "nbformat": 4,
 "nbformat_minor": 1
}
